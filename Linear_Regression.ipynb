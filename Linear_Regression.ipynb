{
 "cells": [
  {
   "cell_type": "markdown",
   "metadata": {
    "id": "fitv0OOcAwUV"
   },
   "source": [
    "#  Machine Learning\n",
    "\n",
    "##  Linear Regression (4h)  \n",
    "\n",
    "Linear regression is a family of machine learning algorithms aiming at adjusting a linear model to an ensemble of data. The applications range from signal reconstruction to empirical description.\n",
    "\n",
    "The given dataset was produced by the World Health Organization. It pooled the evolution of 20 features for 15 years and among numerous countries. One of the goals of this TP1 is to manipulate this dataset and try to predict the evolution of Life Expectancy through different variables.\n",
    "\n",
    "**Objectives:**\n",
    "- Use and setup an iPython environment\n",
    "- Manipulate and visualize data\n",
    "- Implement a simple linear regression\n",
    "- Apply the aforementioned linear regression\n",
    "- Compute a $R^2$ on the generated results\n",
    "- Apply Ridge and Lasso regressions\n",
    "\n",
    "\n",
    "To code this TP, you can use your own iPython environment, or chose to use the ENSEA's jupyter server available on https://io.ensea.fr\n",
    "\n",
    "This TP has different **checkpoints**. Please call your teacher at the end of each checkpoint to validate your work. Any non validated work won't be taken into account in the notation\n"
   ]
  },
  {
   "cell_type": "markdown",
   "metadata": {
    "id": "zByLC3qEH6Tz"
   },
   "source": [
    "## STEP 1: Use and setup an iPython environment"
   ]
  },
  {
   "cell_type": "markdown",
   "metadata": {
    "id": "JFtU-3tJK23k"
   },
   "source": [
    "iPython and Notebook environments are useful tools to quickly prototype and test machine learning solutions. However, they have limitations especially in RAM and disk access."
   ]
  },
  {
   "cell_type": "markdown",
   "metadata": {
    "id": "Ko9W3iTnIISS"
   },
   "source": [
    "**TO DO 1.1**\n",
    "\n",
    "Execute the following cells"
   ]
  },
  {
   "cell_type": "code",
   "execution_count": 14,
   "metadata": {
    "id": "H8SLi4uEBG3K"
   },
   "outputs": [],
   "source": [
    "a = 3\n",
    "b = 4\n",
    "c = a + b"
   ]
  },
  {
   "cell_type": "code",
   "execution_count": 15,
   "metadata": {
    "id": "8hM_aMdCIvZK"
   },
   "outputs": [],
   "source": [
    "c = c"
   ]
  },
  {
   "cell_type": "code",
   "execution_count": 16,
   "metadata": {
    "id": "YqOVDV_7ISXN"
   },
   "outputs": [
    {
     "name": "stdout",
     "output_type": "stream",
     "text": [
      "7\n"
     ]
    }
   ],
   "source": [
    "print(c)"
   ]
  },
  {
   "cell_type": "code",
   "execution_count": 17,
   "metadata": {
    "id": "bSy3G2LbFH5q"
   },
   "outputs": [
    {
     "data": {
      "text/plain": [
       "7"
      ]
     },
     "execution_count": 17,
     "metadata": {},
     "output_type": "execute_result"
    }
   ],
   "source": [
    "c"
   ]
  },
  {
   "cell_type": "markdown",
   "metadata": {
    "id": "7ToVYPUPI0ib"
   },
   "source": [
    "**QUESTION 1**\n",
    "\n",
    "What is triggering the output display?\n",
    "\n",
    "La sortie ne sera affichée que si la cellule contenant \"print(c)\" est exécutée, à condition que les cellules précédentes, en particulier celle qui initialise la variable \"c\", aient déjà été exécutées. Pour exécuter une cellule, il suffit d'appuyer sur Shift + Entrée."
   ]
  },
  {
   "cell_type": "markdown",
   "metadata": {
    "id": "04BeCMcuKDpj"
   },
   "source": [
    "**TO DO 1.2**\n",
    "\n",
    "Execute the following cells"
   ]
  },
  {
   "cell_type": "code",
   "execution_count": 18,
   "metadata": {
    "id": "jwKMM5ofJZL3"
   },
   "outputs": [],
   "source": [
    "import shutil\n",
    "import pkgutil\n",
    "\n",
    "def show_acceptable_modules():\n",
    "    line = '-' * 100\n",
    "    print('{}\\n{:^30}|{:^20}\\n{}'.format(line, 'Module', 'Location', line))\n",
    "    for entry in pkgutil.iter_modules():\n",
    "        print('{:30}| {}'.format(entry[1], entry[0].path))"
   ]
  },
  {
   "cell_type": "code",
   "execution_count": 19,
   "metadata": {
    "id": "D0hybzmjKI0P"
   },
   "outputs": [
    {
     "name": "stdout",
     "output_type": "stream",
     "text": [
      "----------------------------------------------------------------------------------------------------\n",
      "            Module            |      Location      \n",
      "----------------------------------------------------------------------------------------------------\n",
      "__future__                    | /usr/lib/python3.10\n",
      "_aix_support                  | /usr/lib/python3.10\n",
      "_bootsubprocess               | /usr/lib/python3.10\n",
      "_collections_abc              | /usr/lib/python3.10\n",
      "_compat_pickle                | /usr/lib/python3.10\n",
      "_compression                  | /usr/lib/python3.10\n",
      "_distutils_system_mod         | /usr/lib/python3.10\n",
      "_markupbase                   | /usr/lib/python3.10\n",
      "_osx_support                  | /usr/lib/python3.10\n",
      "_py_abc                       | /usr/lib/python3.10\n",
      "_pydecimal                    | /usr/lib/python3.10\n",
      "_pyio                         | /usr/lib/python3.10\n",
      "_sitebuiltins                 | /usr/lib/python3.10\n",
      "_strptime                     | /usr/lib/python3.10\n",
      "_sysconfigdata__linux_x86_64-linux-gnu| /usr/lib/python3.10\n",
      "_sysconfigdata__x86_64-linux-gnu| /usr/lib/python3.10\n",
      "_threading_local              | /usr/lib/python3.10\n",
      "_weakrefset                   | /usr/lib/python3.10\n",
      "abc                           | /usr/lib/python3.10\n",
      "aifc                          | /usr/lib/python3.10\n",
      "antigravity                   | /usr/lib/python3.10\n",
      "argparse                      | /usr/lib/python3.10\n",
      "ast                           | /usr/lib/python3.10\n",
      "asynchat                      | /usr/lib/python3.10\n",
      "asyncio                       | /usr/lib/python3.10\n",
      "asyncore                      | /usr/lib/python3.10\n",
      "base64                        | /usr/lib/python3.10\n",
      "bdb                           | /usr/lib/python3.10\n",
      "binhex                        | /usr/lib/python3.10\n",
      "bisect                        | /usr/lib/python3.10\n",
      "bz2                           | /usr/lib/python3.10\n",
      "cProfile                      | /usr/lib/python3.10\n",
      "calendar                      | /usr/lib/python3.10\n",
      "cgi                           | /usr/lib/python3.10\n",
      "cgitb                         | /usr/lib/python3.10\n",
      "chunk                         | /usr/lib/python3.10\n",
      "cmd                           | /usr/lib/python3.10\n",
      "code                          | /usr/lib/python3.10\n",
      "codecs                        | /usr/lib/python3.10\n",
      "codeop                        | /usr/lib/python3.10\n",
      "collections                   | /usr/lib/python3.10\n",
      "colorsys                      | /usr/lib/python3.10\n",
      "compileall                    | /usr/lib/python3.10\n",
      "concurrent                    | /usr/lib/python3.10\n",
      "configparser                  | /usr/lib/python3.10\n",
      "contextlib                    | /usr/lib/python3.10\n",
      "contextvars                   | /usr/lib/python3.10\n",
      "copy                          | /usr/lib/python3.10\n",
      "copyreg                       | /usr/lib/python3.10\n",
      "crypt                         | /usr/lib/python3.10\n",
      "csv                           | /usr/lib/python3.10\n",
      "ctypes                        | /usr/lib/python3.10\n",
      "curses                        | /usr/lib/python3.10\n",
      "dataclasses                   | /usr/lib/python3.10\n",
      "datetime                      | /usr/lib/python3.10\n",
      "dbm                           | /usr/lib/python3.10\n",
      "decimal                       | /usr/lib/python3.10\n",
      "difflib                       | /usr/lib/python3.10\n",
      "dis                           | /usr/lib/python3.10\n",
      "distutils                     | /usr/lib/python3.10\n",
      "doctest                       | /usr/lib/python3.10\n",
      "email                         | /usr/lib/python3.10\n",
      "encodings                     | /usr/lib/python3.10\n",
      "ensurepip                     | /usr/lib/python3.10\n",
      "enum                          | /usr/lib/python3.10\n",
      "filecmp                       | /usr/lib/python3.10\n",
      "fileinput                     | /usr/lib/python3.10\n",
      "fnmatch                       | /usr/lib/python3.10\n",
      "fractions                     | /usr/lib/python3.10\n",
      "ftplib                        | /usr/lib/python3.10\n",
      "functools                     | /usr/lib/python3.10\n",
      "genericpath                   | /usr/lib/python3.10\n",
      "getopt                        | /usr/lib/python3.10\n",
      "getpass                       | /usr/lib/python3.10\n",
      "gettext                       | /usr/lib/python3.10\n",
      "glob                          | /usr/lib/python3.10\n",
      "graphlib                      | /usr/lib/python3.10\n",
      "gzip                          | /usr/lib/python3.10\n",
      "hashlib                       | /usr/lib/python3.10\n",
      "heapq                         | /usr/lib/python3.10\n",
      "hmac                          | /usr/lib/python3.10\n",
      "html                          | /usr/lib/python3.10\n",
      "http                          | /usr/lib/python3.10\n",
      "imaplib                       | /usr/lib/python3.10\n",
      "imghdr                        | /usr/lib/python3.10\n",
      "imp                           | /usr/lib/python3.10\n",
      "importlib                     | /usr/lib/python3.10\n",
      "inspect                       | /usr/lib/python3.10\n",
      "io                            | /usr/lib/python3.10\n",
      "ipaddress                     | /usr/lib/python3.10\n",
      "json                          | /usr/lib/python3.10\n",
      "keyword                       | /usr/lib/python3.10\n",
      "lib2to3                       | /usr/lib/python3.10\n",
      "linecache                     | /usr/lib/python3.10\n",
      "locale                        | /usr/lib/python3.10\n",
      "logging                       | /usr/lib/python3.10\n",
      "lzma                          | /usr/lib/python3.10\n",
      "mailbox                       | /usr/lib/python3.10\n",
      "mailcap                       | /usr/lib/python3.10\n",
      "mimetypes                     | /usr/lib/python3.10\n",
      "modulefinder                  | /usr/lib/python3.10\n",
      "multiprocessing               | /usr/lib/python3.10\n",
      "netrc                         | /usr/lib/python3.10\n",
      "nntplib                       | /usr/lib/python3.10\n",
      "ntpath                        | /usr/lib/python3.10\n",
      "nturl2path                    | /usr/lib/python3.10\n",
      "numbers                       | /usr/lib/python3.10\n",
      "opcode                        | /usr/lib/python3.10\n",
      "operator                      | /usr/lib/python3.10\n",
      "optparse                      | /usr/lib/python3.10\n",
      "os                            | /usr/lib/python3.10\n",
      "pathlib                       | /usr/lib/python3.10\n",
      "pdb                           | /usr/lib/python3.10\n",
      "pickle                        | /usr/lib/python3.10\n",
      "pickletools                   | /usr/lib/python3.10\n",
      "pipes                         | /usr/lib/python3.10\n",
      "pkgutil                       | /usr/lib/python3.10\n",
      "platform                      | /usr/lib/python3.10\n",
      "plistlib                      | /usr/lib/python3.10\n",
      "poplib                        | /usr/lib/python3.10\n",
      "posixpath                     | /usr/lib/python3.10\n",
      "pprint                        | /usr/lib/python3.10\n",
      "profile                       | /usr/lib/python3.10\n",
      "pstats                        | /usr/lib/python3.10\n",
      "pty                           | /usr/lib/python3.10\n",
      "py_compile                    | /usr/lib/python3.10\n",
      "pyclbr                        | /usr/lib/python3.10\n",
      "pydoc                         | /usr/lib/python3.10\n",
      "pydoc_data                    | /usr/lib/python3.10\n",
      "queue                         | /usr/lib/python3.10\n",
      "quopri                        | /usr/lib/python3.10\n",
      "random                        | /usr/lib/python3.10\n",
      "re                            | /usr/lib/python3.10\n",
      "reprlib                       | /usr/lib/python3.10\n",
      "rlcompleter                   | /usr/lib/python3.10\n",
      "runpy                         | /usr/lib/python3.10\n",
      "sched                         | /usr/lib/python3.10\n",
      "secrets                       | /usr/lib/python3.10\n",
      "selectors                     | /usr/lib/python3.10\n",
      "shelve                        | /usr/lib/python3.10\n",
      "shlex                         | /usr/lib/python3.10\n",
      "shutil                        | /usr/lib/python3.10\n",
      "signal                        | /usr/lib/python3.10\n",
      "site                          | /usr/lib/python3.10\n",
      "sitecustomize                 | /usr/lib/python3.10\n",
      "smtpd                         | /usr/lib/python3.10\n",
      "smtplib                       | /usr/lib/python3.10\n",
      "sndhdr                        | /usr/lib/python3.10\n",
      "socket                        | /usr/lib/python3.10\n",
      "socketserver                  | /usr/lib/python3.10\n",
      "sqlite3                       | /usr/lib/python3.10\n",
      "sre_compile                   | /usr/lib/python3.10\n",
      "sre_constants                 | /usr/lib/python3.10\n",
      "sre_parse                     | /usr/lib/python3.10\n",
      "ssl                           | /usr/lib/python3.10\n",
      "stat                          | /usr/lib/python3.10\n",
      "statistics                    | /usr/lib/python3.10\n",
      "string                        | /usr/lib/python3.10\n",
      "stringprep                    | /usr/lib/python3.10\n",
      "struct                        | /usr/lib/python3.10\n",
      "subprocess                    | /usr/lib/python3.10\n",
      "sunau                         | /usr/lib/python3.10\n",
      "symtable                      | /usr/lib/python3.10\n",
      "sysconfig                     | /usr/lib/python3.10\n",
      "tabnanny                      | /usr/lib/python3.10\n",
      "tarfile                       | /usr/lib/python3.10\n",
      "telnetlib                     | /usr/lib/python3.10\n",
      "tempfile                      | /usr/lib/python3.10\n",
      "test                          | /usr/lib/python3.10\n",
      "textwrap                      | /usr/lib/python3.10\n",
      "this                          | /usr/lib/python3.10\n",
      "threading                     | /usr/lib/python3.10\n",
      "timeit                        | /usr/lib/python3.10\n",
      "token                         | /usr/lib/python3.10\n",
      "tokenize                      | /usr/lib/python3.10\n",
      "trace                         | /usr/lib/python3.10\n",
      "traceback                     | /usr/lib/python3.10\n",
      "tracemalloc                   | /usr/lib/python3.10\n",
      "tty                           | /usr/lib/python3.10\n",
      "turtle                        | /usr/lib/python3.10\n",
      "types                         | /usr/lib/python3.10\n",
      "typing                        | /usr/lib/python3.10\n",
      "unittest                      | /usr/lib/python3.10\n",
      "urllib                        | /usr/lib/python3.10\n",
      "uu                            | /usr/lib/python3.10\n",
      "uuid                          | /usr/lib/python3.10\n",
      "venv                          | /usr/lib/python3.10\n",
      "warnings                      | /usr/lib/python3.10\n",
      "wave                          | /usr/lib/python3.10\n",
      "weakref                       | /usr/lib/python3.10\n",
      "webbrowser                    | /usr/lib/python3.10\n",
      "wsgiref                       | /usr/lib/python3.10\n",
      "xdrlib                        | /usr/lib/python3.10\n",
      "xml                           | /usr/lib/python3.10\n",
      "xmlrpc                        | /usr/lib/python3.10\n",
      "zipapp                        | /usr/lib/python3.10\n",
      "zipfile                       | /usr/lib/python3.10\n",
      "zipimport                     | /usr/lib/python3.10\n",
      "zoneinfo                      | /usr/lib/python3.10\n",
      "_asyncio                      | /usr/lib/python3.10/lib-dynload\n",
      "_bz2                          | /usr/lib/python3.10/lib-dynload\n",
      "_codecs_cn                    | /usr/lib/python3.10/lib-dynload\n",
      "_codecs_hk                    | /usr/lib/python3.10/lib-dynload\n",
      "_codecs_iso2022               | /usr/lib/python3.10/lib-dynload\n",
      "_codecs_jp                    | /usr/lib/python3.10/lib-dynload\n",
      "_codecs_kr                    | /usr/lib/python3.10/lib-dynload\n",
      "_codecs_tw                    | /usr/lib/python3.10/lib-dynload\n",
      "_contextvars                  | /usr/lib/python3.10/lib-dynload\n",
      "_crypt                        | /usr/lib/python3.10/lib-dynload\n",
      "_ctypes                       | /usr/lib/python3.10/lib-dynload\n",
      "_ctypes_test                  | /usr/lib/python3.10/lib-dynload\n",
      "_curses                       | /usr/lib/python3.10/lib-dynload\n",
      "_curses_panel                 | /usr/lib/python3.10/lib-dynload\n",
      "_dbm                          | /usr/lib/python3.10/lib-dynload\n",
      "_decimal                      | /usr/lib/python3.10/lib-dynload\n",
      "_gdbm                         | /usr/lib/python3.10/lib-dynload\n",
      "_hashlib                      | /usr/lib/python3.10/lib-dynload\n",
      "_json                         | /usr/lib/python3.10/lib-dynload\n",
      "_lsprof                       | /usr/lib/python3.10/lib-dynload\n",
      "_lzma                         | /usr/lib/python3.10/lib-dynload\n",
      "_multibytecodec               | /usr/lib/python3.10/lib-dynload\n",
      "_multiprocessing              | /usr/lib/python3.10/lib-dynload\n",
      "_opcode                       | /usr/lib/python3.10/lib-dynload\n",
      "_posixshmem                   | /usr/lib/python3.10/lib-dynload\n",
      "_queue                        | /usr/lib/python3.10/lib-dynload\n",
      "_sqlite3                      | /usr/lib/python3.10/lib-dynload\n",
      "_ssl                          | /usr/lib/python3.10/lib-dynload\n",
      "_testbuffer                   | /usr/lib/python3.10/lib-dynload\n",
      "_testcapi                     | /usr/lib/python3.10/lib-dynload\n",
      "_testclinic                   | /usr/lib/python3.10/lib-dynload\n",
      "_testimportmultiple           | /usr/lib/python3.10/lib-dynload\n",
      "_testinternalcapi             | /usr/lib/python3.10/lib-dynload\n",
      "_testmultiphase               | /usr/lib/python3.10/lib-dynload\n",
      "_uuid                         | /usr/lib/python3.10/lib-dynload\n",
      "_xxsubinterpreters            | /usr/lib/python3.10/lib-dynload\n",
      "_xxtestfuzz                   | /usr/lib/python3.10/lib-dynload\n",
      "_zoneinfo                     | /usr/lib/python3.10/lib-dynload\n",
      "audioop                       | /usr/lib/python3.10/lib-dynload\n",
      "mmap                          | /usr/lib/python3.10/lib-dynload\n",
      "nis                           | /usr/lib/python3.10/lib-dynload\n",
      "ossaudiodev                   | /usr/lib/python3.10/lib-dynload\n",
      "readline                      | /usr/lib/python3.10/lib-dynload\n",
      "resource                      | /usr/lib/python3.10/lib-dynload\n",
      "termios                       | /usr/lib/python3.10/lib-dynload\n",
      "xxlimited                     | /usr/lib/python3.10/lib-dynload\n",
      "xxlimited_35                  | /usr/lib/python3.10/lib-dynload\n",
      "IPython                       | /etc/jupyterhub/kernel/2A_ML_env/lib/python3.10/site-packages\n",
      "PIL                           | /etc/jupyterhub/kernel/2A_ML_env/lib/python3.10/site-packages\n",
      "_distutils_hack               | /etc/jupyterhub/kernel/2A_ML_env/lib/python3.10/site-packages\n",
      "asttokens                     | /etc/jupyterhub/kernel/2A_ML_env/lib/python3.10/site-packages\n",
      "backcall                      | /etc/jupyterhub/kernel/2A_ML_env/lib/python3.10/site-packages\n",
      "comm                          | /etc/jupyterhub/kernel/2A_ML_env/lib/python3.10/site-packages\n",
      "contourpy                     | /etc/jupyterhub/kernel/2A_ML_env/lib/python3.10/site-packages\n",
      "cycler                        | /etc/jupyterhub/kernel/2A_ML_env/lib/python3.10/site-packages\n",
      "dateutil                      | /etc/jupyterhub/kernel/2A_ML_env/lib/python3.10/site-packages\n",
      "debugpy                       | /etc/jupyterhub/kernel/2A_ML_env/lib/python3.10/site-packages\n",
      "decorator                     | /etc/jupyterhub/kernel/2A_ML_env/lib/python3.10/site-packages\n",
      "exceptiongroup                | /etc/jupyterhub/kernel/2A_ML_env/lib/python3.10/site-packages\n",
      "executing                     | /etc/jupyterhub/kernel/2A_ML_env/lib/python3.10/site-packages\n",
      "fontTools                     | /etc/jupyterhub/kernel/2A_ML_env/lib/python3.10/site-packages\n",
      "ipykernel                     | /etc/jupyterhub/kernel/2A_ML_env/lib/python3.10/site-packages\n",
      "ipykernel_launcher            | /etc/jupyterhub/kernel/2A_ML_env/lib/python3.10/site-packages\n",
      "jedi                          | /etc/jupyterhub/kernel/2A_ML_env/lib/python3.10/site-packages\n",
      "joblib                        | /etc/jupyterhub/kernel/2A_ML_env/lib/python3.10/site-packages\n",
      "jupyter                       | /etc/jupyterhub/kernel/2A_ML_env/lib/python3.10/site-packages\n",
      "jupyter_client                | /etc/jupyterhub/kernel/2A_ML_env/lib/python3.10/site-packages\n",
      "jupyter_core                  | /etc/jupyterhub/kernel/2A_ML_env/lib/python3.10/site-packages\n",
      "kiwisolver                    | /etc/jupyterhub/kernel/2A_ML_env/lib/python3.10/site-packages\n",
      "matplotlib                    | /etc/jupyterhub/kernel/2A_ML_env/lib/python3.10/site-packages\n",
      "matplotlib_inline             | /etc/jupyterhub/kernel/2A_ML_env/lib/python3.10/site-packages\n",
      "nest_asyncio                  | /etc/jupyterhub/kernel/2A_ML_env/lib/python3.10/site-packages\n",
      "numpy                         | /etc/jupyterhub/kernel/2A_ML_env/lib/python3.10/site-packages\n",
      "packaging                     | /etc/jupyterhub/kernel/2A_ML_env/lib/python3.10/site-packages\n",
      "pandas                        | /etc/jupyterhub/kernel/2A_ML_env/lib/python3.10/site-packages\n",
      "parso                         | /etc/jupyterhub/kernel/2A_ML_env/lib/python3.10/site-packages\n",
      "pexpect                       | /etc/jupyterhub/kernel/2A_ML_env/lib/python3.10/site-packages\n",
      "pickleshare                   | /etc/jupyterhub/kernel/2A_ML_env/lib/python3.10/site-packages\n",
      "pip                           | /etc/jupyterhub/kernel/2A_ML_env/lib/python3.10/site-packages\n",
      "pkg_resources                 | /etc/jupyterhub/kernel/2A_ML_env/lib/python3.10/site-packages\n",
      "platformdirs                  | /etc/jupyterhub/kernel/2A_ML_env/lib/python3.10/site-packages\n",
      "prompt_toolkit                | /etc/jupyterhub/kernel/2A_ML_env/lib/python3.10/site-packages\n",
      "psutil                        | /etc/jupyterhub/kernel/2A_ML_env/lib/python3.10/site-packages\n",
      "ptyprocess                    | /etc/jupyterhub/kernel/2A_ML_env/lib/python3.10/site-packages\n",
      "pure_eval                     | /etc/jupyterhub/kernel/2A_ML_env/lib/python3.10/site-packages\n",
      "pygments                      | /etc/jupyterhub/kernel/2A_ML_env/lib/python3.10/site-packages\n",
      "pylab                         | /etc/jupyterhub/kernel/2A_ML_env/lib/python3.10/site-packages\n",
      "pyparsing                     | /etc/jupyterhub/kernel/2A_ML_env/lib/python3.10/site-packages\n",
      "pytz                          | /etc/jupyterhub/kernel/2A_ML_env/lib/python3.10/site-packages\n",
      "scipy                         | /etc/jupyterhub/kernel/2A_ML_env/lib/python3.10/site-packages\n",
      "setuptools                    | /etc/jupyterhub/kernel/2A_ML_env/lib/python3.10/site-packages\n",
      "six                           | /etc/jupyterhub/kernel/2A_ML_env/lib/python3.10/site-packages\n",
      "sklearn                       | /etc/jupyterhub/kernel/2A_ML_env/lib/python3.10/site-packages\n",
      "stack_data                    | /etc/jupyterhub/kernel/2A_ML_env/lib/python3.10/site-packages\n",
      "threadpoolctl                 | /etc/jupyterhub/kernel/2A_ML_env/lib/python3.10/site-packages\n",
      "tornado                       | /etc/jupyterhub/kernel/2A_ML_env/lib/python3.10/site-packages\n",
      "traitlets                     | /etc/jupyterhub/kernel/2A_ML_env/lib/python3.10/site-packages\n",
      "tzdata                        | /etc/jupyterhub/kernel/2A_ML_env/lib/python3.10/site-packages\n",
      "wcwidth                       | /etc/jupyterhub/kernel/2A_ML_env/lib/python3.10/site-packages\n",
      "yellowbrick                   | /etc/jupyterhub/kernel/2A_ML_env/lib/python3.10/site-packages\n",
      "zmq                           | /etc/jupyterhub/kernel/2A_ML_env/lib/python3.10/site-packages\n"
     ]
    }
   ],
   "source": [
    "show_acceptable_modules()"
   ]
  },
  {
   "cell_type": "markdown",
   "metadata": {
    "id": "3SaAGxbhNE8W"
   },
   "source": [
    "**QUESTION 2**\n",
    "\n",
    "What is displayed on the last output?\n",
    "\n",
    "**La denrière sortie affiche l'ensemble des librairies disponibles sur l'ordinateur.** \n",
    "\n",
    "Which is the used Python version?\n",
    "\n",
    "**La version de python utilisée est la version 3.10.**\n",
    "\n",
    "For this TP1, you will need:\n",
    "- pandas\n",
    "- matplotlib\n",
    "- numpy\n",
    "- sklearn\n",
    "\n",
    "Are these packages installed in this environment?\n",
    "\n",
    "**OUI, ils  sont  installés dans l'environnement**"
   ]
  },
  {
   "cell_type": "markdown",
   "metadata": {
    "id": "plKPi2AyOJbH"
   },
   "source": [
    "**TO DO 1.3**\n",
    "\n",
    "Execute the following cell"
   ]
  },
  {
   "cell_type": "code",
   "execution_count": 20,
   "metadata": {
    "id": "uA8_Sk99OCwx"
   },
   "outputs": [
    {
     "data": {
      "text/plain": [
       "'2.1.1'"
      ]
     },
     "execution_count": 20,
     "metadata": {},
     "output_type": "execute_result"
    }
   ],
   "source": [
    "import pandas\n",
    "pandas.__version__"
   ]
  },
  {
   "cell_type": "markdown",
   "metadata": {
    "id": "s-fXaMVZOUz6"
   },
   "source": [
    "**QUESTION 3**\n",
    "\n",
    "How would you solve this error?\n",
    "\n",
    "Pour résoudre ce problème il suffit d'ajouter l'intruction : \"import pandas\" avant d'appeler cette dernière."
   ]
  },
  {
   "cell_type": "markdown",
   "metadata": {
    "id": "UeFUQwYnOkOc"
   },
   "source": [
    "## STEP 2: Data manipulation and visualization\n"
   ]
  },
  {
   "cell_type": "markdown",
   "metadata": {
    "id": "jooNCqdVO3DM"
   },
   "source": [
    "**TO DO 2.1**\n",
    "\n",
    "Execute the following cell"
   ]
  },
  {
   "cell_type": "code",
   "execution_count": 21,
   "metadata": {
    "id": "rDNpZKEOO85F"
   },
   "outputs": [
    {
     "name": "stdout",
     "output_type": "stream",
     "text": [
      "<class 'pandas.core.frame.DataFrame'>\n",
      "Index: 1649 entries, 0 to 2937\n",
      "Data columns (total 22 columns):\n",
      " #   Column                           Non-Null Count  Dtype  \n",
      "---  ------                           --------------  -----  \n",
      " 0   Country                          1649 non-null   object \n",
      " 1   Year                             1649 non-null   int64  \n",
      " 2   Status                           1649 non-null   object \n",
      " 3   Life_expectancy                  1649 non-null   float64\n",
      " 4   Adult_mortality                  1649 non-null   float64\n",
      " 5   Infant_deaths                    1649 non-null   int64  \n",
      " 6   Alcohol                          1649 non-null   float64\n",
      " 7   Percentage_expenditure           1649 non-null   float64\n",
      " 8   Hepatitis_B                      1649 non-null   float64\n",
      " 9   Measles                          1649 non-null   int64  \n",
      " 10  BMI                              1649 non-null   float64\n",
      " 11  Under-five_deaths                1649 non-null   int64  \n",
      " 12  Polio                            1649 non-null   float64\n",
      " 13  Total_expenditure                1649 non-null   float64\n",
      " 14  Diphtheria                       1649 non-null   float64\n",
      " 15  HIV_AIDS                         1649 non-null   float64\n",
      " 16  GDP                              1649 non-null   float64\n",
      " 17  Population                       1649 non-null   float64\n",
      " 18  Thinness _1-19_years             1649 non-null   float64\n",
      " 19  Thinness_5-9_years               1649 non-null   float64\n",
      " 20  Income_composition_of_resources  1649 non-null   float64\n",
      " 21  Schooling                        1649 non-null   float64\n",
      "dtypes: float64(16), int64(4), object(2)\n",
      "memory usage: 296.3+ KB\n"
     ]
    }
   ],
   "source": [
    "import pandas as pd\n",
    "import matplotlib.pyplot as plt\n",
    "\n",
    "df = pd.read_csv(\"Life_Expectancy_Data.csv\")\n",
    "\n",
    "df = df.dropna()\n",
    "df.info()"
   ]
  },
  {
   "cell_type": "markdown",
   "metadata": {
    "id": "OdmKi5iNPEpg"
   },
   "source": [
    "**QUESTION 4**\n",
    "\n",
    "Can you explain the different elements printed on the last output?\n",
    "\n",
    "dans l'affichage des derniers éléments, on trouve le dataframe à partir du fichier csv \"Life_Expectancy_Data.csv\". cependant, cet affichage ne prend pas en compte les lignes qui ne contiennent pas de data utilisables (NA). "
   ]
  },
  {
   "cell_type": "code",
   "execution_count": 22,
   "metadata": {
    "id": "TO2VhknbPPcD"
   },
   "outputs": [
    {
     "name": "stdout",
     "output_type": "stream",
     "text": [
      "df1:      Country  Year      Status  Life_expectancy  Adult_mortality  \\\n",
      "931  France  2014  Developing             82.2             79.0   \n",
      "932  France  2013  Developing             82.0             81.0   \n",
      "933  France  2012  Developing             81.5             83.0   \n",
      "934  France  2011  Developing             81.7             83.0   \n",
      "\n",
      "     Infant_deaths  Alcohol  Percentage_expenditure  Hepatitis_B  Measles  \\\n",
      "931              3     11.5             6739.677606         83.0      267   \n",
      "932              3     11.1             6646.953935         74.0      272   \n",
      "933              3     11.5              751.379355         78.0        0   \n",
      "934              3     11.8              683.919057         74.0    14949   \n",
      "\n",
      "     ...  Polio  Total_expenditure  Diphtheria  HIV_AIDS          GDP  \\\n",
      "931  ...   98.0              11.54        98.0       0.1  42955.24287   \n",
      "932  ...   99.0              11.56        99.0       0.1  42554.12250   \n",
      "933  ...   99.0              11.44        99.0       0.1   4838.24440   \n",
      "934  ...   99.0              11.33        99.0       0.1   4381.28800   \n",
      "\n",
      "     Population  Thinness _1-19_years  Thinness_5-9_years  \\\n",
      "931  66331957.0                   0.6                 0.6   \n",
      "932   6599857.0                   0.6                 0.6   \n",
      "933   6565979.0                   0.6                 0.6   \n",
      "934  65342776.0                   0.6                 0.6   \n",
      "\n",
      "     Income_composition_of_resources  Schooling  \n",
      "931                            0.890       16.2  \n",
      "932                            0.887       16.2  \n",
      "933                            0.885       16.1  \n",
      "934                            0.882       16.1  \n",
      "\n",
      "[4 rows x 22 columns]\n",
      "df2:  931    2014\n",
      "932    2013\n",
      "933    2012\n",
      "934    2011\n",
      "935    2010\n",
      "936    2009\n",
      "937    2008\n",
      "938    2007\n",
      "939    2006\n",
      "940    2005\n",
      "941    2004\n",
      "942    2003\n",
      "943    2002\n",
      "944    2001\n",
      "945    2000\n",
      "Name: Year, dtype: int64\n"
     ]
    }
   ],
   "source": [
    "df1 = df[(df.Country == \"France\") & (df.Year > 2010)]\n",
    "print(\"df1: \", df1)\n",
    "df2 = df[(df.Country == \"France\")].Year\n",
    "print(\"df2: \", df2)"
   ]
  },
  {
   "cell_type": "markdown",
   "metadata": {
    "id": "HIPyWcrYPicD"
   },
   "source": [
    "**QUESTION 5**\n",
    "\n",
    "How do you interpret the new Data Frame df1 compared to df? What represents df2 compared to df1?\n",
    "\n",
    "df1 correspond aux données de df dont le pays est la France et l'année est supériere à 2010. En revanche df2 n'affiche que la colonne des années de df dont le pays est la France. df1 et df2 sont des sous ensembles de df."
   ]
  },
  {
   "cell_type": "markdown",
   "metadata": {
    "id": "ZOiWa2vsPq-A"
   },
   "source": [
    "**TO CODE 2.2**\n",
    "\n",
    "What is the range of life expectancy of Belgium between 2004 and 2008?"
   ]
  },
  {
   "cell_type": "code",
   "execution_count": 23,
   "metadata": {
    "id": "G6bvJ4oQPyiU"
   },
   "outputs": [
    {
     "name": "stdout",
     "output_type": "stream",
     "text": [
      "df3:  247    79.5\n",
      "248    79.5\n",
      "249    79.4\n",
      "250    78.9\n",
      "251    78.8\n",
      "Name: Life_expectancy, dtype: float64\n",
      "l'intervalle de life_expectancy pour la belgique entre 2004 et 2008 est [ 78.8, 79.5]\n"
     ]
    }
   ],
   "source": [
    "df3 = df[(df.Country == \"Belgium\")& (df.Year > 2003) & (df.Year < 2009)].Life_expectancy\n",
    "print(\"df3: \", df3)\n",
    "a= min(df3)\n",
    "b= max(df3)\n",
    "print(\"l'intervalle de life_expectancy pour la belgique entre 2004 et 2008 est [ \" +str(a)+ \", \" +str(b)+ \"]\")"
   ]
  },
  {
   "cell_type": "markdown",
   "metadata": {
    "id": "JQ5hQwbzP-IQ"
   },
   "source": [
    "**TO DO 2.3**\n",
    "\n",
    "Compute the correlation among all features"
   ]
  },
  {
   "cell_type": "code",
   "execution_count": 24,
   "metadata": {
    "id": "wR83je-kQFD8"
   },
   "outputs": [
    {
     "data": {
      "text/html": [
       "<div>\n",
       "<style scoped>\n",
       "    .dataframe tbody tr th:only-of-type {\n",
       "        vertical-align: middle;\n",
       "    }\n",
       "\n",
       "    .dataframe tbody tr th {\n",
       "        vertical-align: top;\n",
       "    }\n",
       "\n",
       "    .dataframe thead th {\n",
       "        text-align: right;\n",
       "    }\n",
       "</style>\n",
       "<table border=\"1\" class=\"dataframe\">\n",
       "  <thead>\n",
       "    <tr style=\"text-align: right;\">\n",
       "      <th></th>\n",
       "      <th>Year</th>\n",
       "      <th>Life_expectancy</th>\n",
       "      <th>Adult_mortality</th>\n",
       "      <th>Infant_deaths</th>\n",
       "      <th>Alcohol</th>\n",
       "      <th>Percentage_expenditure</th>\n",
       "      <th>Hepatitis_B</th>\n",
       "      <th>Measles</th>\n",
       "      <th>BMI</th>\n",
       "      <th>Under-five_deaths</th>\n",
       "      <th>Polio</th>\n",
       "      <th>Total_expenditure</th>\n",
       "      <th>Diphtheria</th>\n",
       "      <th>HIV_AIDS</th>\n",
       "      <th>GDP</th>\n",
       "      <th>Population</th>\n",
       "      <th>Thinness _1-19_years</th>\n",
       "      <th>Thinness_5-9_years</th>\n",
       "      <th>Income_composition_of_resources</th>\n",
       "      <th>Schooling</th>\n",
       "    </tr>\n",
       "  </thead>\n",
       "  <tbody>\n",
       "    <tr>\n",
       "      <th>Year</th>\n",
       "      <td>1.000000</td>\n",
       "      <td>0.050771</td>\n",
       "      <td>-0.037092</td>\n",
       "      <td>0.008029</td>\n",
       "      <td>-0.113365</td>\n",
       "      <td>0.069553</td>\n",
       "      <td>0.114897</td>\n",
       "      <td>-0.053822</td>\n",
       "      <td>0.005739</td>\n",
       "      <td>0.010479</td>\n",
       "      <td>-0.016699</td>\n",
       "      <td>0.059493</td>\n",
       "      <td>0.029641</td>\n",
       "      <td>-0.123405</td>\n",
       "      <td>0.096421</td>\n",
       "      <td>0.012567</td>\n",
       "      <td>0.019757</td>\n",
       "      <td>0.014122</td>\n",
       "      <td>0.122892</td>\n",
       "      <td>0.088732</td>\n",
       "    </tr>\n",
       "    <tr>\n",
       "      <th>Life_expectancy</th>\n",
       "      <td>0.050771</td>\n",
       "      <td>1.000000</td>\n",
       "      <td>-0.702523</td>\n",
       "      <td>-0.169074</td>\n",
       "      <td>0.402718</td>\n",
       "      <td>0.409631</td>\n",
       "      <td>0.199935</td>\n",
       "      <td>-0.068881</td>\n",
       "      <td>0.542042</td>\n",
       "      <td>-0.192265</td>\n",
       "      <td>0.327294</td>\n",
       "      <td>0.174718</td>\n",
       "      <td>0.341331</td>\n",
       "      <td>-0.592236</td>\n",
       "      <td>0.441322</td>\n",
       "      <td>-0.022305</td>\n",
       "      <td>-0.457838</td>\n",
       "      <td>-0.457508</td>\n",
       "      <td>0.721083</td>\n",
       "      <td>0.727630</td>\n",
       "    </tr>\n",
       "    <tr>\n",
       "      <th>Adult_mortality</th>\n",
       "      <td>-0.037092</td>\n",
       "      <td>-0.702523</td>\n",
       "      <td>1.000000</td>\n",
       "      <td>0.042450</td>\n",
       "      <td>-0.175535</td>\n",
       "      <td>-0.237610</td>\n",
       "      <td>-0.105225</td>\n",
       "      <td>-0.003967</td>\n",
       "      <td>-0.351542</td>\n",
       "      <td>0.060365</td>\n",
       "      <td>-0.199853</td>\n",
       "      <td>-0.085227</td>\n",
       "      <td>-0.191429</td>\n",
       "      <td>0.550691</td>\n",
       "      <td>-0.255035</td>\n",
       "      <td>-0.015012</td>\n",
       "      <td>0.272230</td>\n",
       "      <td>0.286723</td>\n",
       "      <td>-0.442203</td>\n",
       "      <td>-0.421171</td>\n",
       "    </tr>\n",
       "    <tr>\n",
       "      <th>Infant_deaths</th>\n",
       "      <td>0.008029</td>\n",
       "      <td>-0.169074</td>\n",
       "      <td>0.042450</td>\n",
       "      <td>1.000000</td>\n",
       "      <td>-0.106217</td>\n",
       "      <td>-0.090765</td>\n",
       "      <td>-0.231769</td>\n",
       "      <td>0.532680</td>\n",
       "      <td>-0.234425</td>\n",
       "      <td>0.996906</td>\n",
       "      <td>-0.156929</td>\n",
       "      <td>-0.146951</td>\n",
       "      <td>-0.161871</td>\n",
       "      <td>0.007712</td>\n",
       "      <td>-0.098092</td>\n",
       "      <td>0.671758</td>\n",
       "      <td>0.463415</td>\n",
       "      <td>0.461908</td>\n",
       "      <td>-0.134754</td>\n",
       "      <td>-0.214372</td>\n",
       "    </tr>\n",
       "    <tr>\n",
       "      <th>Alcohol</th>\n",
       "      <td>-0.113365</td>\n",
       "      <td>0.402718</td>\n",
       "      <td>-0.175535</td>\n",
       "      <td>-0.106217</td>\n",
       "      <td>1.000000</td>\n",
       "      <td>0.417047</td>\n",
       "      <td>0.109889</td>\n",
       "      <td>-0.050110</td>\n",
       "      <td>0.353396</td>\n",
       "      <td>-0.101082</td>\n",
       "      <td>0.240315</td>\n",
       "      <td>0.214885</td>\n",
       "      <td>0.242951</td>\n",
       "      <td>-0.027113</td>\n",
       "      <td>0.443433</td>\n",
       "      <td>-0.028880</td>\n",
       "      <td>-0.403755</td>\n",
       "      <td>-0.386208</td>\n",
       "      <td>0.561074</td>\n",
       "      <td>0.616975</td>\n",
       "    </tr>\n",
       "    <tr>\n",
       "      <th>Percentage_expenditure</th>\n",
       "      <td>0.069553</td>\n",
       "      <td>0.409631</td>\n",
       "      <td>-0.237610</td>\n",
       "      <td>-0.090765</td>\n",
       "      <td>0.417047</td>\n",
       "      <td>1.000000</td>\n",
       "      <td>0.016760</td>\n",
       "      <td>-0.063071</td>\n",
       "      <td>0.242738</td>\n",
       "      <td>-0.092158</td>\n",
       "      <td>0.128626</td>\n",
       "      <td>0.183872</td>\n",
       "      <td>0.134813</td>\n",
       "      <td>-0.095085</td>\n",
       "      <td>0.959299</td>\n",
       "      <td>-0.016792</td>\n",
       "      <td>-0.255035</td>\n",
       "      <td>-0.255635</td>\n",
       "      <td>0.402170</td>\n",
       "      <td>0.422088</td>\n",
       "    </tr>\n",
       "    <tr>\n",
       "      <th>Hepatitis_B</th>\n",
       "      <td>0.114897</td>\n",
       "      <td>0.199935</td>\n",
       "      <td>-0.105225</td>\n",
       "      <td>-0.231769</td>\n",
       "      <td>0.109889</td>\n",
       "      <td>0.016760</td>\n",
       "      <td>1.000000</td>\n",
       "      <td>-0.124800</td>\n",
       "      <td>0.143302</td>\n",
       "      <td>-0.240766</td>\n",
       "      <td>0.463331</td>\n",
       "      <td>0.113327</td>\n",
       "      <td>0.588990</td>\n",
       "      <td>-0.094802</td>\n",
       "      <td>0.041850</td>\n",
       "      <td>-0.129723</td>\n",
       "      <td>-0.129406</td>\n",
       "      <td>-0.133251</td>\n",
       "      <td>0.184921</td>\n",
       "      <td>0.215182</td>\n",
       "    </tr>\n",
       "    <tr>\n",
       "      <th>Measles</th>\n",
       "      <td>-0.053822</td>\n",
       "      <td>-0.068881</td>\n",
       "      <td>-0.003967</td>\n",
       "      <td>0.532680</td>\n",
       "      <td>-0.050110</td>\n",
       "      <td>-0.063071</td>\n",
       "      <td>-0.124800</td>\n",
       "      <td>1.000000</td>\n",
       "      <td>-0.153245</td>\n",
       "      <td>0.517506</td>\n",
       "      <td>-0.057850</td>\n",
       "      <td>-0.113583</td>\n",
       "      <td>-0.058606</td>\n",
       "      <td>-0.003522</td>\n",
       "      <td>-0.064768</td>\n",
       "      <td>0.321946</td>\n",
       "      <td>0.180642</td>\n",
       "      <td>0.174946</td>\n",
       "      <td>-0.058277</td>\n",
       "      <td>-0.115660</td>\n",
       "    </tr>\n",
       "    <tr>\n",
       "      <th>BMI</th>\n",
       "      <td>0.005739</td>\n",
       "      <td>0.542042</td>\n",
       "      <td>-0.351542</td>\n",
       "      <td>-0.234425</td>\n",
       "      <td>0.353396</td>\n",
       "      <td>0.242738</td>\n",
       "      <td>0.143302</td>\n",
       "      <td>-0.153245</td>\n",
       "      <td>1.000000</td>\n",
       "      <td>-0.242137</td>\n",
       "      <td>0.186268</td>\n",
       "      <td>0.189469</td>\n",
       "      <td>0.176295</td>\n",
       "      <td>-0.210897</td>\n",
       "      <td>0.266114</td>\n",
       "      <td>-0.081416</td>\n",
       "      <td>-0.547018</td>\n",
       "      <td>-0.554094</td>\n",
       "      <td>0.510505</td>\n",
       "      <td>0.554844</td>\n",
       "    </tr>\n",
       "    <tr>\n",
       "      <th>Under-five_deaths</th>\n",
       "      <td>0.010479</td>\n",
       "      <td>-0.192265</td>\n",
       "      <td>0.060365</td>\n",
       "      <td>0.996906</td>\n",
       "      <td>-0.101082</td>\n",
       "      <td>-0.092158</td>\n",
       "      <td>-0.240766</td>\n",
       "      <td>0.517506</td>\n",
       "      <td>-0.242137</td>\n",
       "      <td>1.000000</td>\n",
       "      <td>-0.171164</td>\n",
       "      <td>-0.145803</td>\n",
       "      <td>-0.178448</td>\n",
       "      <td>0.019476</td>\n",
       "      <td>-0.100331</td>\n",
       "      <td>0.658680</td>\n",
       "      <td>0.464785</td>\n",
       "      <td>0.462289</td>\n",
       "      <td>-0.148097</td>\n",
       "      <td>-0.226013</td>\n",
       "    </tr>\n",
       "    <tr>\n",
       "      <th>Polio</th>\n",
       "      <td>-0.016699</td>\n",
       "      <td>0.327294</td>\n",
       "      <td>-0.199853</td>\n",
       "      <td>-0.156929</td>\n",
       "      <td>0.240315</td>\n",
       "      <td>0.128626</td>\n",
       "      <td>0.463331</td>\n",
       "      <td>-0.057850</td>\n",
       "      <td>0.186268</td>\n",
       "      <td>-0.171164</td>\n",
       "      <td>1.000000</td>\n",
       "      <td>0.119768</td>\n",
       "      <td>0.609245</td>\n",
       "      <td>-0.107885</td>\n",
       "      <td>0.156809</td>\n",
       "      <td>-0.045387</td>\n",
       "      <td>-0.164070</td>\n",
       "      <td>-0.174489</td>\n",
       "      <td>0.314682</td>\n",
       "      <td>0.350147</td>\n",
       "    </tr>\n",
       "    <tr>\n",
       "      <th>Total_expenditure</th>\n",
       "      <td>0.059493</td>\n",
       "      <td>0.174718</td>\n",
       "      <td>-0.085227</td>\n",
       "      <td>-0.146951</td>\n",
       "      <td>0.214885</td>\n",
       "      <td>0.183872</td>\n",
       "      <td>0.113327</td>\n",
       "      <td>-0.113583</td>\n",
       "      <td>0.189469</td>\n",
       "      <td>-0.145803</td>\n",
       "      <td>0.119768</td>\n",
       "      <td>1.000000</td>\n",
       "      <td>0.129915</td>\n",
       "      <td>0.043101</td>\n",
       "      <td>0.180373</td>\n",
       "      <td>-0.079962</td>\n",
       "      <td>-0.209872</td>\n",
       "      <td>-0.217865</td>\n",
       "      <td>0.183653</td>\n",
       "      <td>0.243783</td>\n",
       "    </tr>\n",
       "    <tr>\n",
       "      <th>Diphtheria</th>\n",
       "      <td>0.029641</td>\n",
       "      <td>0.341331</td>\n",
       "      <td>-0.191429</td>\n",
       "      <td>-0.161871</td>\n",
       "      <td>0.242951</td>\n",
       "      <td>0.134813</td>\n",
       "      <td>0.588990</td>\n",
       "      <td>-0.058606</td>\n",
       "      <td>0.176295</td>\n",
       "      <td>-0.178448</td>\n",
       "      <td>0.609245</td>\n",
       "      <td>0.129915</td>\n",
       "      <td>1.000000</td>\n",
       "      <td>-0.117601</td>\n",
       "      <td>0.158438</td>\n",
       "      <td>-0.039898</td>\n",
       "      <td>-0.187242</td>\n",
       "      <td>-0.180952</td>\n",
       "      <td>0.343262</td>\n",
       "      <td>0.350398</td>\n",
       "    </tr>\n",
       "    <tr>\n",
       "      <th>HIV_AIDS</th>\n",
       "      <td>-0.123405</td>\n",
       "      <td>-0.592236</td>\n",
       "      <td>0.550691</td>\n",
       "      <td>0.007712</td>\n",
       "      <td>-0.027113</td>\n",
       "      <td>-0.095085</td>\n",
       "      <td>-0.094802</td>\n",
       "      <td>-0.003522</td>\n",
       "      <td>-0.210897</td>\n",
       "      <td>0.019476</td>\n",
       "      <td>-0.107885</td>\n",
       "      <td>0.043101</td>\n",
       "      <td>-0.117601</td>\n",
       "      <td>1.000000</td>\n",
       "      <td>-0.108081</td>\n",
       "      <td>-0.027801</td>\n",
       "      <td>0.172592</td>\n",
       "      <td>0.183147</td>\n",
       "      <td>-0.248590</td>\n",
       "      <td>-0.211840</td>\n",
       "    </tr>\n",
       "    <tr>\n",
       "      <th>GDP</th>\n",
       "      <td>0.096421</td>\n",
       "      <td>0.441322</td>\n",
       "      <td>-0.255035</td>\n",
       "      <td>-0.098092</td>\n",
       "      <td>0.443433</td>\n",
       "      <td>0.959299</td>\n",
       "      <td>0.041850</td>\n",
       "      <td>-0.064768</td>\n",
       "      <td>0.266114</td>\n",
       "      <td>-0.100331</td>\n",
       "      <td>0.156809</td>\n",
       "      <td>0.180373</td>\n",
       "      <td>0.158438</td>\n",
       "      <td>-0.108081</td>\n",
       "      <td>1.000000</td>\n",
       "      <td>-0.020369</td>\n",
       "      <td>-0.277498</td>\n",
       "      <td>-0.277959</td>\n",
       "      <td>0.446856</td>\n",
       "      <td>0.467947</td>\n",
       "    </tr>\n",
       "    <tr>\n",
       "      <th>Population</th>\n",
       "      <td>0.012567</td>\n",
       "      <td>-0.022305</td>\n",
       "      <td>-0.015012</td>\n",
       "      <td>0.671758</td>\n",
       "      <td>-0.028880</td>\n",
       "      <td>-0.016792</td>\n",
       "      <td>-0.129723</td>\n",
       "      <td>0.321946</td>\n",
       "      <td>-0.081416</td>\n",
       "      <td>0.658680</td>\n",
       "      <td>-0.045387</td>\n",
       "      <td>-0.079962</td>\n",
       "      <td>-0.039898</td>\n",
       "      <td>-0.027801</td>\n",
       "      <td>-0.020369</td>\n",
       "      <td>1.000000</td>\n",
       "      <td>0.282529</td>\n",
       "      <td>0.277913</td>\n",
       "      <td>-0.008132</td>\n",
       "      <td>-0.040312</td>\n",
       "    </tr>\n",
       "    <tr>\n",
       "      <th>Thinness _1-19_years</th>\n",
       "      <td>0.019757</td>\n",
       "      <td>-0.457838</td>\n",
       "      <td>0.272230</td>\n",
       "      <td>0.463415</td>\n",
       "      <td>-0.403755</td>\n",
       "      <td>-0.255035</td>\n",
       "      <td>-0.129406</td>\n",
       "      <td>0.180642</td>\n",
       "      <td>-0.547018</td>\n",
       "      <td>0.464785</td>\n",
       "      <td>-0.164070</td>\n",
       "      <td>-0.209872</td>\n",
       "      <td>-0.187242</td>\n",
       "      <td>0.172592</td>\n",
       "      <td>-0.277498</td>\n",
       "      <td>0.282529</td>\n",
       "      <td>1.000000</td>\n",
       "      <td>0.927913</td>\n",
       "      <td>-0.453679</td>\n",
       "      <td>-0.491199</td>\n",
       "    </tr>\n",
       "    <tr>\n",
       "      <th>Thinness_5-9_years</th>\n",
       "      <td>0.014122</td>\n",
       "      <td>-0.457508</td>\n",
       "      <td>0.286723</td>\n",
       "      <td>0.461908</td>\n",
       "      <td>-0.386208</td>\n",
       "      <td>-0.255635</td>\n",
       "      <td>-0.133251</td>\n",
       "      <td>0.174946</td>\n",
       "      <td>-0.554094</td>\n",
       "      <td>0.462289</td>\n",
       "      <td>-0.174489</td>\n",
       "      <td>-0.217865</td>\n",
       "      <td>-0.180952</td>\n",
       "      <td>0.183147</td>\n",
       "      <td>-0.277959</td>\n",
       "      <td>0.277913</td>\n",
       "      <td>0.927913</td>\n",
       "      <td>1.000000</td>\n",
       "      <td>-0.438484</td>\n",
       "      <td>-0.472482</td>\n",
       "    </tr>\n",
       "    <tr>\n",
       "      <th>Income_composition_of_resources</th>\n",
       "      <td>0.122892</td>\n",
       "      <td>0.721083</td>\n",
       "      <td>-0.442203</td>\n",
       "      <td>-0.134754</td>\n",
       "      <td>0.561074</td>\n",
       "      <td>0.402170</td>\n",
       "      <td>0.184921</td>\n",
       "      <td>-0.058277</td>\n",
       "      <td>0.510505</td>\n",
       "      <td>-0.148097</td>\n",
       "      <td>0.314682</td>\n",
       "      <td>0.183653</td>\n",
       "      <td>0.343262</td>\n",
       "      <td>-0.248590</td>\n",
       "      <td>0.446856</td>\n",
       "      <td>-0.008132</td>\n",
       "      <td>-0.453679</td>\n",
       "      <td>-0.438484</td>\n",
       "      <td>1.000000</td>\n",
       "      <td>0.784741</td>\n",
       "    </tr>\n",
       "    <tr>\n",
       "      <th>Schooling</th>\n",
       "      <td>0.088732</td>\n",
       "      <td>0.727630</td>\n",
       "      <td>-0.421171</td>\n",
       "      <td>-0.214372</td>\n",
       "      <td>0.616975</td>\n",
       "      <td>0.422088</td>\n",
       "      <td>0.215182</td>\n",
       "      <td>-0.115660</td>\n",
       "      <td>0.554844</td>\n",
       "      <td>-0.226013</td>\n",
       "      <td>0.350147</td>\n",
       "      <td>0.243783</td>\n",
       "      <td>0.350398</td>\n",
       "      <td>-0.211840</td>\n",
       "      <td>0.467947</td>\n",
       "      <td>-0.040312</td>\n",
       "      <td>-0.491199</td>\n",
       "      <td>-0.472482</td>\n",
       "      <td>0.784741</td>\n",
       "      <td>1.000000</td>\n",
       "    </tr>\n",
       "  </tbody>\n",
       "</table>\n",
       "</div>"
      ],
      "text/plain": [
       "                                     Year  Life_expectancy  Adult_mortality  \\\n",
       "Year                             1.000000         0.050771        -0.037092   \n",
       "Life_expectancy                  0.050771         1.000000        -0.702523   \n",
       "Adult_mortality                 -0.037092        -0.702523         1.000000   \n",
       "Infant_deaths                    0.008029        -0.169074         0.042450   \n",
       "Alcohol                         -0.113365         0.402718        -0.175535   \n",
       "Percentage_expenditure           0.069553         0.409631        -0.237610   \n",
       "Hepatitis_B                      0.114897         0.199935        -0.105225   \n",
       "Measles                         -0.053822        -0.068881        -0.003967   \n",
       "BMI                              0.005739         0.542042        -0.351542   \n",
       "Under-five_deaths                0.010479        -0.192265         0.060365   \n",
       "Polio                           -0.016699         0.327294        -0.199853   \n",
       "Total_expenditure                0.059493         0.174718        -0.085227   \n",
       "Diphtheria                       0.029641         0.341331        -0.191429   \n",
       "HIV_AIDS                        -0.123405        -0.592236         0.550691   \n",
       "GDP                              0.096421         0.441322        -0.255035   \n",
       "Population                       0.012567        -0.022305        -0.015012   \n",
       "Thinness _1-19_years             0.019757        -0.457838         0.272230   \n",
       "Thinness_5-9_years               0.014122        -0.457508         0.286723   \n",
       "Income_composition_of_resources  0.122892         0.721083        -0.442203   \n",
       "Schooling                        0.088732         0.727630        -0.421171   \n",
       "\n",
       "                                 Infant_deaths   Alcohol  \\\n",
       "Year                                  0.008029 -0.113365   \n",
       "Life_expectancy                      -0.169074  0.402718   \n",
       "Adult_mortality                       0.042450 -0.175535   \n",
       "Infant_deaths                         1.000000 -0.106217   \n",
       "Alcohol                              -0.106217  1.000000   \n",
       "Percentage_expenditure               -0.090765  0.417047   \n",
       "Hepatitis_B                          -0.231769  0.109889   \n",
       "Measles                               0.532680 -0.050110   \n",
       "BMI                                  -0.234425  0.353396   \n",
       "Under-five_deaths                     0.996906 -0.101082   \n",
       "Polio                                -0.156929  0.240315   \n",
       "Total_expenditure                    -0.146951  0.214885   \n",
       "Diphtheria                           -0.161871  0.242951   \n",
       "HIV_AIDS                              0.007712 -0.027113   \n",
       "GDP                                  -0.098092  0.443433   \n",
       "Population                            0.671758 -0.028880   \n",
       "Thinness _1-19_years                  0.463415 -0.403755   \n",
       "Thinness_5-9_years                    0.461908 -0.386208   \n",
       "Income_composition_of_resources      -0.134754  0.561074   \n",
       "Schooling                            -0.214372  0.616975   \n",
       "\n",
       "                                 Percentage_expenditure  Hepatitis_B  \\\n",
       "Year                                           0.069553     0.114897   \n",
       "Life_expectancy                                0.409631     0.199935   \n",
       "Adult_mortality                               -0.237610    -0.105225   \n",
       "Infant_deaths                                 -0.090765    -0.231769   \n",
       "Alcohol                                        0.417047     0.109889   \n",
       "Percentage_expenditure                         1.000000     0.016760   \n",
       "Hepatitis_B                                    0.016760     1.000000   \n",
       "Measles                                       -0.063071    -0.124800   \n",
       "BMI                                            0.242738     0.143302   \n",
       "Under-five_deaths                             -0.092158    -0.240766   \n",
       "Polio                                          0.128626     0.463331   \n",
       "Total_expenditure                              0.183872     0.113327   \n",
       "Diphtheria                                     0.134813     0.588990   \n",
       "HIV_AIDS                                      -0.095085    -0.094802   \n",
       "GDP                                            0.959299     0.041850   \n",
       "Population                                    -0.016792    -0.129723   \n",
       "Thinness _1-19_years                          -0.255035    -0.129406   \n",
       "Thinness_5-9_years                            -0.255635    -0.133251   \n",
       "Income_composition_of_resources                0.402170     0.184921   \n",
       "Schooling                                      0.422088     0.215182   \n",
       "\n",
       "                                  Measles       BMI  Under-five_deaths  \\\n",
       "Year                            -0.053822  0.005739           0.010479   \n",
       "Life_expectancy                 -0.068881  0.542042          -0.192265   \n",
       "Adult_mortality                 -0.003967 -0.351542           0.060365   \n",
       "Infant_deaths                    0.532680 -0.234425           0.996906   \n",
       "Alcohol                         -0.050110  0.353396          -0.101082   \n",
       "Percentage_expenditure          -0.063071  0.242738          -0.092158   \n",
       "Hepatitis_B                     -0.124800  0.143302          -0.240766   \n",
       "Measles                          1.000000 -0.153245           0.517506   \n",
       "BMI                             -0.153245  1.000000          -0.242137   \n",
       "Under-five_deaths                0.517506 -0.242137           1.000000   \n",
       "Polio                           -0.057850  0.186268          -0.171164   \n",
       "Total_expenditure               -0.113583  0.189469          -0.145803   \n",
       "Diphtheria                      -0.058606  0.176295          -0.178448   \n",
       "HIV_AIDS                        -0.003522 -0.210897           0.019476   \n",
       "GDP                             -0.064768  0.266114          -0.100331   \n",
       "Population                       0.321946 -0.081416           0.658680   \n",
       "Thinness _1-19_years             0.180642 -0.547018           0.464785   \n",
       "Thinness_5-9_years               0.174946 -0.554094           0.462289   \n",
       "Income_composition_of_resources -0.058277  0.510505          -0.148097   \n",
       "Schooling                       -0.115660  0.554844          -0.226013   \n",
       "\n",
       "                                    Polio  Total_expenditure  Diphtheria  \\\n",
       "Year                            -0.016699           0.059493    0.029641   \n",
       "Life_expectancy                  0.327294           0.174718    0.341331   \n",
       "Adult_mortality                 -0.199853          -0.085227   -0.191429   \n",
       "Infant_deaths                   -0.156929          -0.146951   -0.161871   \n",
       "Alcohol                          0.240315           0.214885    0.242951   \n",
       "Percentage_expenditure           0.128626           0.183872    0.134813   \n",
       "Hepatitis_B                      0.463331           0.113327    0.588990   \n",
       "Measles                         -0.057850          -0.113583   -0.058606   \n",
       "BMI                              0.186268           0.189469    0.176295   \n",
       "Under-five_deaths               -0.171164          -0.145803   -0.178448   \n",
       "Polio                            1.000000           0.119768    0.609245   \n",
       "Total_expenditure                0.119768           1.000000    0.129915   \n",
       "Diphtheria                       0.609245           0.129915    1.000000   \n",
       "HIV_AIDS                        -0.107885           0.043101   -0.117601   \n",
       "GDP                              0.156809           0.180373    0.158438   \n",
       "Population                      -0.045387          -0.079962   -0.039898   \n",
       "Thinness _1-19_years            -0.164070          -0.209872   -0.187242   \n",
       "Thinness_5-9_years              -0.174489          -0.217865   -0.180952   \n",
       "Income_composition_of_resources  0.314682           0.183653    0.343262   \n",
       "Schooling                        0.350147           0.243783    0.350398   \n",
       "\n",
       "                                 HIV_AIDS       GDP  Population  \\\n",
       "Year                            -0.123405  0.096421    0.012567   \n",
       "Life_expectancy                 -0.592236  0.441322   -0.022305   \n",
       "Adult_mortality                  0.550691 -0.255035   -0.015012   \n",
       "Infant_deaths                    0.007712 -0.098092    0.671758   \n",
       "Alcohol                         -0.027113  0.443433   -0.028880   \n",
       "Percentage_expenditure          -0.095085  0.959299   -0.016792   \n",
       "Hepatitis_B                     -0.094802  0.041850   -0.129723   \n",
       "Measles                         -0.003522 -0.064768    0.321946   \n",
       "BMI                             -0.210897  0.266114   -0.081416   \n",
       "Under-five_deaths                0.019476 -0.100331    0.658680   \n",
       "Polio                           -0.107885  0.156809   -0.045387   \n",
       "Total_expenditure                0.043101  0.180373   -0.079962   \n",
       "Diphtheria                      -0.117601  0.158438   -0.039898   \n",
       "HIV_AIDS                         1.000000 -0.108081   -0.027801   \n",
       "GDP                             -0.108081  1.000000   -0.020369   \n",
       "Population                      -0.027801 -0.020369    1.000000   \n",
       "Thinness _1-19_years             0.172592 -0.277498    0.282529   \n",
       "Thinness_5-9_years               0.183147 -0.277959    0.277913   \n",
       "Income_composition_of_resources -0.248590  0.446856   -0.008132   \n",
       "Schooling                       -0.211840  0.467947   -0.040312   \n",
       "\n",
       "                                 Thinness _1-19_years  Thinness_5-9_years  \\\n",
       "Year                                         0.019757            0.014122   \n",
       "Life_expectancy                             -0.457838           -0.457508   \n",
       "Adult_mortality                              0.272230            0.286723   \n",
       "Infant_deaths                                0.463415            0.461908   \n",
       "Alcohol                                     -0.403755           -0.386208   \n",
       "Percentage_expenditure                      -0.255035           -0.255635   \n",
       "Hepatitis_B                                 -0.129406           -0.133251   \n",
       "Measles                                      0.180642            0.174946   \n",
       "BMI                                         -0.547018           -0.554094   \n",
       "Under-five_deaths                            0.464785            0.462289   \n",
       "Polio                                       -0.164070           -0.174489   \n",
       "Total_expenditure                           -0.209872           -0.217865   \n",
       "Diphtheria                                  -0.187242           -0.180952   \n",
       "HIV_AIDS                                     0.172592            0.183147   \n",
       "GDP                                         -0.277498           -0.277959   \n",
       "Population                                   0.282529            0.277913   \n",
       "Thinness _1-19_years                         1.000000            0.927913   \n",
       "Thinness_5-9_years                           0.927913            1.000000   \n",
       "Income_composition_of_resources             -0.453679           -0.438484   \n",
       "Schooling                                   -0.491199           -0.472482   \n",
       "\n",
       "                                 Income_composition_of_resources  Schooling  \n",
       "Year                                                    0.122892   0.088732  \n",
       "Life_expectancy                                         0.721083   0.727630  \n",
       "Adult_mortality                                        -0.442203  -0.421171  \n",
       "Infant_deaths                                          -0.134754  -0.214372  \n",
       "Alcohol                                                 0.561074   0.616975  \n",
       "Percentage_expenditure                                  0.402170   0.422088  \n",
       "Hepatitis_B                                             0.184921   0.215182  \n",
       "Measles                                                -0.058277  -0.115660  \n",
       "BMI                                                     0.510505   0.554844  \n",
       "Under-five_deaths                                      -0.148097  -0.226013  \n",
       "Polio                                                   0.314682   0.350147  \n",
       "Total_expenditure                                       0.183653   0.243783  \n",
       "Diphtheria                                              0.343262   0.350398  \n",
       "HIV_AIDS                                               -0.248590  -0.211840  \n",
       "GDP                                                     0.446856   0.467947  \n",
       "Population                                             -0.008132  -0.040312  \n",
       "Thinness _1-19_years                                   -0.453679  -0.491199  \n",
       "Thinness_5-9_years                                     -0.438484  -0.472482  \n",
       "Income_composition_of_resources                         1.000000   0.784741  \n",
       "Schooling                                               0.784741   1.000000  "
      ]
     },
     "metadata": {},
     "output_type": "display_data"
    }
   ],
   "source": [
    "\n",
    "display(df.corr(numeric_only=True))\n"
   ]
  },
  {
   "cell_type": "markdown",
   "metadata": {
    "id": "UXcFU3_ARz1C"
   },
   "source": [
    "**QUESTION 6**\n",
    "\n",
    "Which seems the most and the least promising values to use as a predictor for life expectancy?\n",
    "\n",
    "Pour qu'une valeur soit prometteuse à utiliser afin de prédir une bonne espérance de vie, il faut qu'elle soit bien corrélée avec life_expectancy; ça veut dire que le coefficient de coorélation entre les deux soit le plus proche de 1 en valeur absolue. D'après le tableau, les deux données prometteuses sont le niveau d'étude (\"Schooling\") ou encore le salaire (\"Income\") ou la mort d'adulte(\"Adult_mortality\")."
   ]
  },
  {
   "cell_type": "markdown",
   "metadata": {
    "id": "EZlknwdoSgcH"
   },
   "source": [
    "The function scatter of matplotlib allows to plot two values against each other. Here is the documentation about this function:\n",
    "\n",
    "```\n",
    "matplotlib.pyplot.scatter(x, y, s=None, c=None, marker=None, cmap=None, norm=None, vmin=None, vmax=None, alpha=None, linewidths=None, *, edgecolors=None, plotnonfinite=False, data=None, **kwargs)\n",
    "```\n",
    "Parameters:\n",
    "\n",
    "**x, y** float or array-like, shape (n, )\n",
    "\n",
    "The data positions.\n",
    "\n",
    "**s** float or array-like, shape (n, ), optional\n",
    "\n",
    "The marker size in points**2. Default is rcParams['lines.markersize'] ** 2.\n",
    "\n",
    "**c** array-like or list of colors or color, optional\n",
    "\n",
    "The marker colors. Possible values:\n",
    "\n",
    "- A scalar or sequence of n numbers to be mapped to colors using cmap and norm.\n",
    "\n",
    "- A 2D array in which the rows are RGB or RGBA.\n",
    "\n",
    "- A sequence of colors of length n.\n",
    "\n",
    "- A single color format string.\n",
    "\n",
    "**marker** MarkerStyle, default: rcParams (default: 'o')\n",
    "\n",
    "The marker style. marker can be either an instance of the class or the text shorthand for a particular marker. See matplotlib.markers for more information about marker styles.\n",
    "\n",
    "**cmapstr** or Colormap, default: rcParams(default: 'viridis')\n",
    "\n",
    "A Colormap instance or registered colormap name. cmap is only used if c is an array of floats.\n",
    "\n",
    "**norm** Normalize, default: None\n",
    "\n",
    "If c is an array of floats, norm is used to scale the color data, c, in the range 0 to 1, in order to map into the colormap cmap. If None, use the default colors.Normalize.\n",
    "\n",
    "**vmin, vmax** float, default: None\n",
    "\n",
    "vmin and vmax are used in conjunction with the default norm to map the color array c to the colormap cmap. If None, the respective min and max of the color array is used. It is deprecated to use vmin/vmax when norm is given.\n",
    "\n",
    "**alpha** float, default: None\n",
    "\n",
    "The alpha blending value, between 0 (transparent) and 1 (opaque).\n",
    "\n",
    "**linewidths** float or array-like, default: rcParams (default: 1.5)\n",
    "\n",
    "The linewidth of the marker edges. Note: The default edgecolors is 'face'. You may want to change this as well.\n",
    "\n",
    "**edgecolors** {'face', 'none', None} or color or sequence of color, default: rcParams[\"scatter.edgecolors\"] (default: 'face')\n",
    "\n",
    "The edge color of the marker. Possible values:\n",
    "\n",
    "- 'face': The edge color will always be the same as the face color.\n",
    "\n",
    "- 'none': No patch boundary will be drawn.\n",
    "        \n",
    "- A color or sequence of colors.\n",
    "\n",
    "For non-filled markers, edgecolors is ignored. Instead, the color is determined like with 'face', i.e. from c, colors, or facecolors.\n",
    "\n",
    "**plotnonfinite** bool, default: False\n",
    "\n",
    "Whether to plot points with nonfinite c (i.e. inf, -inf or nan). If True the points are drawn with the bad colormap color (see Colormap.set_bad).\n"
   ]
  },
  {
   "cell_type": "markdown",
   "metadata": {
    "id": "oU01fx8SUrrI"
   },
   "source": [
    "**TO CODE 2.4**\n",
    "\n",
    "Plot life expectancy against one of your chosen values."
   ]
  },
  {
   "cell_type": "code",
   "execution_count": 25,
   "metadata": {
    "id": "o2HNsPbYUz2o"
   },
   "outputs": [
    {
     "data": {
      "text/plain": [
       "Text(0.5, 1.0, 'Life expectancy with Schooling')"
      ]
     },
     "execution_count": 25,
     "metadata": {},
     "output_type": "execute_result"
    },
    {
     "data": {
      "image/png": "[encoded data removed]",
      "text/plain": [
       "<Figure size 640x480 with 1 Axes>"
      ]
     },
     "metadata": {},
     "output_type": "display_data"
    }
   ],
   "source": [
    "x = df.Schooling # \n",
    "y = df.Life_expectancy\n",
    "plt.scatter(x, y)\n",
    "plt.ylabel(\"Life expectancy\")\n",
    "plt.xlabel(\"Schooling\")\n",
    "plt.title(\"Life expectancy with Schooling\")"
   ]
  },
  {
   "cell_type": "markdown",
   "metadata": {},
   "source": [
    "## Checkpoint : 1 \n",
    "Call your teacher to validate the parts 1 and 2"
   ]
  },
  {
   "cell_type": "markdown",
   "metadata": {
    "id": "S0LPy8bQU89J"
   },
   "source": [
    "## STEP 3: Simple Linear Regression"
   ]
  },
  {
   "cell_type": "code",
   "execution_count": 26,
   "metadata": {
    "id": "IGQeYPIVVGEj"
   },
   "outputs": [],
   "source": [
    "import numpy as np"
   ]
  },
  {
   "cell_type": "markdown",
   "metadata": {
    "id": "i9YDznMfVJDJ"
   },
   "source": [
    "**TO CODE 3.1**\n",
    "\n",
    "Select the Life Expectancy and the Income composition of resources of Belarus, Madagascar, India and Lithuania. This new Data Frame will be called df_study"
   ]
  },
  {
   "cell_type": "code",
   "execution_count": 27,
   "metadata": {
    "id": "5qPFHI2bVPxz"
   },
   "outputs": [
    {
     "data": {
      "text/html": [
       "<div>\n",
       "<style scoped>\n",
       "    .dataframe tbody tr th:only-of-type {\n",
       "        vertical-align: middle;\n",
       "    }\n",
       "\n",
       "    .dataframe tbody tr th {\n",
       "        vertical-align: top;\n",
       "    }\n",
       "\n",
       "    .dataframe thead th {\n",
       "        text-align: right;\n",
       "    }\n",
       "</style>\n",
       "<table border=\"1\" class=\"dataframe\">\n",
       "  <thead>\n",
       "    <tr style=\"text-align: right;\">\n",
       "      <th></th>\n",
       "      <th>Life_expectancy</th>\n",
       "      <th>Income_composition_of_resources</th>\n",
       "    </tr>\n",
       "  </thead>\n",
       "  <tbody>\n",
       "    <tr>\n",
       "      <th>225</th>\n",
       "      <td>72.0</td>\n",
       "      <td>0.796</td>\n",
       "    </tr>\n",
       "    <tr>\n",
       "      <th>226</th>\n",
       "      <td>71.7</td>\n",
       "      <td>0.796</td>\n",
       "    </tr>\n",
       "    <tr>\n",
       "      <th>227</th>\n",
       "      <td>71.9</td>\n",
       "      <td>0.793</td>\n",
       "    </tr>\n",
       "    <tr>\n",
       "      <th>228</th>\n",
       "      <td>72.0</td>\n",
       "      <td>0.787</td>\n",
       "    </tr>\n",
       "    <tr>\n",
       "      <th>229</th>\n",
       "      <td>73.0</td>\n",
       "      <td>0.780</td>\n",
       "    </tr>\n",
       "    <tr>\n",
       "      <th>230</th>\n",
       "      <td>70.0</td>\n",
       "      <td>0.771</td>\n",
       "    </tr>\n",
       "    <tr>\n",
       "      <th>231</th>\n",
       "      <td>70.0</td>\n",
       "      <td>0.755</td>\n",
       "    </tr>\n",
       "    <tr>\n",
       "      <th>232</th>\n",
       "      <td>69.8</td>\n",
       "      <td>0.739</td>\n",
       "    </tr>\n",
       "    <tr>\n",
       "      <th>233</th>\n",
       "      <td>68.9</td>\n",
       "      <td>0.723</td>\n",
       "    </tr>\n",
       "    <tr>\n",
       "      <th>234</th>\n",
       "      <td>68.1</td>\n",
       "      <td>0.713</td>\n",
       "    </tr>\n",
       "    <tr>\n",
       "      <th>235</th>\n",
       "      <td>68.2</td>\n",
       "      <td>0.703</td>\n",
       "    </tr>\n",
       "    <tr>\n",
       "      <th>236</th>\n",
       "      <td>67.7</td>\n",
       "      <td>0.695</td>\n",
       "    </tr>\n",
       "    <tr>\n",
       "      <th>237</th>\n",
       "      <td>67.2</td>\n",
       "      <td>0.687</td>\n",
       "    </tr>\n",
       "    <tr>\n",
       "      <th>238</th>\n",
       "      <td>67.7</td>\n",
       "      <td>0.681</td>\n",
       "    </tr>\n",
       "    <tr>\n",
       "      <th>239</th>\n",
       "      <td>68.0</td>\n",
       "      <td>0.675</td>\n",
       "    </tr>\n",
       "    <tr>\n",
       "      <th>1187</th>\n",
       "      <td>68.0</td>\n",
       "      <td>0.607</td>\n",
       "    </tr>\n",
       "    <tr>\n",
       "      <th>1188</th>\n",
       "      <td>67.6</td>\n",
       "      <td>0.599</td>\n",
       "    </tr>\n",
       "    <tr>\n",
       "      <th>1189</th>\n",
       "      <td>67.3</td>\n",
       "      <td>0.590</td>\n",
       "    </tr>\n",
       "    <tr>\n",
       "      <th>1190</th>\n",
       "      <td>66.8</td>\n",
       "      <td>0.580</td>\n",
       "    </tr>\n",
       "    <tr>\n",
       "      <th>1191</th>\n",
       "      <td>66.4</td>\n",
       "      <td>0.569</td>\n",
       "    </tr>\n",
       "    <tr>\n",
       "      <th>1192</th>\n",
       "      <td>66.0</td>\n",
       "      <td>0.563</td>\n",
       "    </tr>\n",
       "    <tr>\n",
       "      <th>1193</th>\n",
       "      <td>65.5</td>\n",
       "      <td>0.556</td>\n",
       "    </tr>\n",
       "    <tr>\n",
       "      <th>1194</th>\n",
       "      <td>65.2</td>\n",
       "      <td>0.546</td>\n",
       "    </tr>\n",
       "    <tr>\n",
       "      <th>1195</th>\n",
       "      <td>64.8</td>\n",
       "      <td>0.536</td>\n",
       "    </tr>\n",
       "    <tr>\n",
       "      <th>1196</th>\n",
       "      <td>64.4</td>\n",
       "      <td>0.526</td>\n",
       "    </tr>\n",
       "    <tr>\n",
       "      <th>1197</th>\n",
       "      <td>64.0</td>\n",
       "      <td>0.518</td>\n",
       "    </tr>\n",
       "    <tr>\n",
       "      <th>1523</th>\n",
       "      <td>73.4</td>\n",
       "      <td>0.841</td>\n",
       "    </tr>\n",
       "    <tr>\n",
       "      <th>1524</th>\n",
       "      <td>73.0</td>\n",
       "      <td>0.834</td>\n",
       "    </tr>\n",
       "    <tr>\n",
       "      <th>1525</th>\n",
       "      <td>73.0</td>\n",
       "      <td>0.830</td>\n",
       "    </tr>\n",
       "    <tr>\n",
       "      <th>1526</th>\n",
       "      <td>72.8</td>\n",
       "      <td>0.826</td>\n",
       "    </tr>\n",
       "    <tr>\n",
       "      <th>1527</th>\n",
       "      <td>72.4</td>\n",
       "      <td>0.824</td>\n",
       "    </tr>\n",
       "    <tr>\n",
       "      <th>1528</th>\n",
       "      <td>72.2</td>\n",
       "      <td>0.825</td>\n",
       "    </tr>\n",
       "    <tr>\n",
       "      <th>1529</th>\n",
       "      <td>71.1</td>\n",
       "      <td>0.820</td>\n",
       "    </tr>\n",
       "    <tr>\n",
       "      <th>1530</th>\n",
       "      <td>72.0</td>\n",
       "      <td>0.812</td>\n",
       "    </tr>\n",
       "    <tr>\n",
       "      <th>1531</th>\n",
       "      <td>76.0</td>\n",
       "      <td>0.807</td>\n",
       "    </tr>\n",
       "    <tr>\n",
       "      <th>1532</th>\n",
       "      <td>78.0</td>\n",
       "      <td>0.798</td>\n",
       "    </tr>\n",
       "    <tr>\n",
       "      <th>1533</th>\n",
       "      <td>71.6</td>\n",
       "      <td>0.792</td>\n",
       "    </tr>\n",
       "    <tr>\n",
       "      <th>1534</th>\n",
       "      <td>71.6</td>\n",
       "      <td>0.780</td>\n",
       "    </tr>\n",
       "    <tr>\n",
       "      <th>1535</th>\n",
       "      <td>71.4</td>\n",
       "      <td>0.770</td>\n",
       "    </tr>\n",
       "    <tr>\n",
       "      <th>1536</th>\n",
       "      <td>71.2</td>\n",
       "      <td>0.757</td>\n",
       "    </tr>\n",
       "    <tr>\n",
       "      <th>1537</th>\n",
       "      <td>71.6</td>\n",
       "      <td>0.745</td>\n",
       "    </tr>\n",
       "    <tr>\n",
       "      <th>1555</th>\n",
       "      <td>65.1</td>\n",
       "      <td>0.509</td>\n",
       "    </tr>\n",
       "    <tr>\n",
       "      <th>1556</th>\n",
       "      <td>64.7</td>\n",
       "      <td>0.508</td>\n",
       "    </tr>\n",
       "    <tr>\n",
       "      <th>1557</th>\n",
       "      <td>64.3</td>\n",
       "      <td>0.506</td>\n",
       "    </tr>\n",
       "    <tr>\n",
       "      <th>1558</th>\n",
       "      <td>63.8</td>\n",
       "      <td>0.504</td>\n",
       "    </tr>\n",
       "    <tr>\n",
       "      <th>1559</th>\n",
       "      <td>63.3</td>\n",
       "      <td>0.503</td>\n",
       "    </tr>\n",
       "    <tr>\n",
       "      <th>1560</th>\n",
       "      <td>62.8</td>\n",
       "      <td>0.500</td>\n",
       "    </tr>\n",
       "    <tr>\n",
       "      <th>1561</th>\n",
       "      <td>62.3</td>\n",
       "      <td>0.491</td>\n",
       "    </tr>\n",
       "    <tr>\n",
       "      <th>1562</th>\n",
       "      <td>61.9</td>\n",
       "      <td>0.483</td>\n",
       "    </tr>\n",
       "    <tr>\n",
       "      <th>1563</th>\n",
       "      <td>61.4</td>\n",
       "      <td>0.478</td>\n",
       "    </tr>\n",
       "    <tr>\n",
       "      <th>1564</th>\n",
       "      <td>69.0</td>\n",
       "      <td>0.473</td>\n",
       "    </tr>\n",
       "    <tr>\n",
       "      <th>1565</th>\n",
       "      <td>64.0</td>\n",
       "      <td>0.466</td>\n",
       "    </tr>\n",
       "    <tr>\n",
       "      <th>1566</th>\n",
       "      <td>59.9</td>\n",
       "      <td>0.457</td>\n",
       "    </tr>\n",
       "    <tr>\n",
       "      <th>1567</th>\n",
       "      <td>59.3</td>\n",
       "      <td>0.462</td>\n",
       "    </tr>\n",
       "  </tbody>\n",
       "</table>\n",
       "</div>"
      ],
      "text/plain": [
       "      Life_expectancy  Income_composition_of_resources\n",
       "225              72.0                            0.796\n",
       "226              71.7                            0.796\n",
       "227              71.9                            0.793\n",
       "228              72.0                            0.787\n",
       "229              73.0                            0.780\n",
       "230              70.0                            0.771\n",
       "231              70.0                            0.755\n",
       "232              69.8                            0.739\n",
       "233              68.9                            0.723\n",
       "234              68.1                            0.713\n",
       "235              68.2                            0.703\n",
       "236              67.7                            0.695\n",
       "237              67.2                            0.687\n",
       "238              67.7                            0.681\n",
       "239              68.0                            0.675\n",
       "1187             68.0                            0.607\n",
       "1188             67.6                            0.599\n",
       "1189             67.3                            0.590\n",
       "1190             66.8                            0.580\n",
       "1191             66.4                            0.569\n",
       "1192             66.0                            0.563\n",
       "1193             65.5                            0.556\n",
       "1194             65.2                            0.546\n",
       "1195             64.8                            0.536\n",
       "1196             64.4                            0.526\n",
       "1197             64.0                            0.518\n",
       "1523             73.4                            0.841\n",
       "1524             73.0                            0.834\n",
       "1525             73.0                            0.830\n",
       "1526             72.8                            0.826\n",
       "1527             72.4                            0.824\n",
       "1528             72.2                            0.825\n",
       "1529             71.1                            0.820\n",
       "1530             72.0                            0.812\n",
       "1531             76.0                            0.807\n",
       "1532             78.0                            0.798\n",
       "1533             71.6                            0.792\n",
       "1534             71.6                            0.780\n",
       "1535             71.4                            0.770\n",
       "1536             71.2                            0.757\n",
       "1537             71.6                            0.745\n",
       "1555             65.1                            0.509\n",
       "1556             64.7                            0.508\n",
       "1557             64.3                            0.506\n",
       "1558             63.8                            0.504\n",
       "1559             63.3                            0.503\n",
       "1560             62.8                            0.500\n",
       "1561             62.3                            0.491\n",
       "1562             61.9                            0.483\n",
       "1563             61.4                            0.478\n",
       "1564             69.0                            0.473\n",
       "1565             64.0                            0.466\n",
       "1566             59.9                            0.457\n",
       "1567             59.3                            0.462"
      ]
     },
     "metadata": {},
     "output_type": "display_data"
    }
   ],
   "source": [
    "df_study= df[(df.Country == \"Belarus\") | (df.Country == \"Madagascar\") | (df.Country == \"India\") | (df.Country == \"Lithuania\")][[\"Life_expectancy\",\"Income_composition_of_resources\"]]\n",
    "display(df_study)"
   ]
  },
  {
   "cell_type": "markdown",
   "metadata": {
    "id": "_PKXxl6KVVx2"
   },
   "source": [
    "**TO CODE 3.2**\n",
    "\n",
    "Implement a simple least square function and apply it on the previous selected data."
   ]
  },
  {
   "cell_type": "code",
   "execution_count": 28,
   "metadata": {
    "id": "JSv6B7r8VeCO"
   },
   "outputs": [],
   "source": [
    "def droite_moindres_carres(X, Y):\n",
    "    x_bar = np.mean(X)\n",
    "    y_bar = np.mean(Y)\n",
    "    num = np.sum((X - x_bar) * (Y - y_bar))  \n",
    "    den = np.sum((X - x_bar) ** 2)           \n",
    "    a = num / den\n",
    "    b = y_bar - a * x_bar\n",
    "    return a, b\n",
    "    \n",
    "    "
   ]
  },
  {
   "cell_type": "code",
   "execution_count": 29,
   "metadata": {},
   "outputs": [
    {
     "data": {
      "text/plain": [
       "(28.5982261406769, 49.34763518833232)"
      ]
     },
     "execution_count": 29,
     "metadata": {},
     "output_type": "execute_result"
    }
   ],
   "source": [
    "droite_moindres_carres(df_study.Income_composition_of_resources,df_study.Life_expectancy)"
   ]
  },
  {
   "cell_type": "markdown",
   "metadata": {},
   "source": [
    "**TO CODE 3.3**\n",
    "\n",
    "On the same figure, draw the line corresponding to your regression and the data points corresponding to df_study"
   ]
  },
  {
   "cell_type": "code",
   "execution_count": 30,
   "metadata": {},
   "outputs": [
    {
     "data": {
      "image/png": "[encoded data removed]",
      "text/plain": [
       "<Figure size 640x480 with 1 Axes>"
      ]
     },
     "metadata": {},
     "output_type": "display_data"
    },
    {
     "name": "stdout",
     "output_type": "stream",
     "text": [
      "28.5982261406769\n",
      "49.34763518833232\n"
     ]
    }
   ],
   "source": [
    "import matplotlib.pyplot as plt\n",
    "\n",
    "donnees_X = df_study.Income_composition_of_resources\n",
    "donnees_y = df_study.Life_expectancy \n",
    "\n",
    "def tracer_droite(donnees_X, donnees_y):\n",
    "    a, b = droite_moindres_carres(donnees_X, donnees_y)\n",
    "    plt.scatter(donnees_X, donnees_y, color='purple', label='Données')\n",
    "    x_line = np.linspace(min(donnees_X), max(donnees_X), 100) \n",
    "    y_line = a * x_line + b                   \n",
    "    plt.plot(x_line, y_line, color='grey')\n",
    "    plt.xlabel('Income_composition_of_resources')\n",
    "    plt.ylabel('Life_expectancy ')\n",
    "    plt.title('Régression linéaire - Méthode des moindres carrés')\n",
    "    plt.legend()\n",
    "    plt.show()\n",
    "    print(a)\n",
    "    print(b)\n",
    "    return a,b\n",
    "a,b = tracer_droite(df_study.Income_composition_of_resources,df_study.Life_expectancy)"
   ]
  },
  {
   "cell_type": "markdown",
   "metadata": {},
   "source": [
    "## Checkpoint : 2\n",
    "Call your teacher to validate the least square section"
   ]
  },
  {
   "cell_type": "markdown",
   "metadata": {
    "id": "rN969VMTVi7U"
   },
   "source": [
    "**TO CODE 3.4**\n",
    "\n",
    "Now, implement a Gradient Descend function `def gradDescent(x, y, w, alpha, iters)` where `x` are\n",
    "the covariates, `y` the target value, `w` the initial weights, `alpha` the learning rate and `iters` the number of gradient descent iterations. Your function should return all intermediary values of `w` that has been computed as a list.\n",
    "\n",
    "As a gentle reminder, Gradient Descent is an optimization algorithm for finding a local minimum of a differentiable function. It is an iterative algorithm that aim to find the `w`  that minimizes our objective function. Since we aim to minimize the squared error, we aim to minimize the function : $L(y, \\hat{y})=\\sum\\limits_{i=1}^n (y_i - w_1x_i-w_0)^2 $\n",
    "\n",
    "Since previous function is convex, the derivative at each point indicate the **opposite** direction of the minimum. Thus, the idea is to update each weight by a small proportion of the opposite of this direction : \n",
    "$w_i^{t+1} = w_i^t - \\alpha \\frac{d(L(y, \\hat{y}))}{d(w_i)}$\n",
    "\n",
    "Be careful : here we have to update two weights, so we have to compute both derivative. Pay also attention on the fact that the derivative is computed according to $w_i$. Once you noticed that, calculating the derivative is pretty straightforward"
   ]
  },
  {
   "cell_type": "code",
   "execution_count": 31,
   "metadata": {
    "id": "j2r8IGYSVoL_"
   },
   "outputs": [],
   "source": [
    "import numpy as np\n",
    "\n",
    "def gradDescent(x, y, w, alpha, iters):\n",
    "    w_history=[]\n",
    "  \n",
    "\n",
    "    for i in range(iters):\n",
    "        prediction = w[0] + w[1] * x\n",
    "        grad_w0 =  np.sum(2*(prediction - y)) \n",
    "        grad_w1 =  np.sum(2*((prediction - y) * x))\n",
    "        w[0] = w[0] - alpha * grad_w0\n",
    "        w[1] = w[1] - alpha * grad_w1\n",
    "\n",
    "        w_history.append(w.copy())\n",
    "    return w_history"
   ]
  },
  {
   "cell_type": "markdown",
   "metadata": {
    "id": "VQpG25CiVzWM"
   },
   "source": [
    "**TO CODE 3.5**\n",
    "\n",
    "Compute the gradient descend on df_study for 1000 iterations with different values of `alpha`. You\n",
    "may initialize `theta` with `theta_0 = 0` and `theta_1 = 1`"
   ]
  },
  {
   "cell_type": "code",
   "execution_count": 32,
   "metadata": {
    "id": "UcBnQMNAWDll"
   },
   "outputs": [],
   "source": [
    "x = df_study[\"Income_composition_of_resources\"].values\n",
    "y = df_study[\"Life_expectancy\"].values\n",
    "theta_initial = [0, 1]\n",
    "iterations = 1000\n",
    "alphas = [0.001, 0.003, 0.005]\n",
    "historique = {}\n",
    "for alpha in alphas:\n",
    "    historique[alpha] = gradDescent(x, y,[0, 1] , alpha, iterations) \n",
    "\n",
    " "
   ]
  },
  {
   "cell_type": "markdown",
   "metadata": {
    "id": "AX03byhrWJvJ"
   },
   "source": [
    "**TO CODE 3.6**\n",
    "\n",
    "On the same figure, plot the evolution of theta_0 through the iterations for each different values of\n",
    "alpha you chose. Do the same thing for theta_1."
   ]
  },
  {
   "cell_type": "code",
   "execution_count": 33,
   "metadata": {
    "id": "aqSKwaxEWVoU",
    "scrolled": true
   },
   "outputs": [
    {
     "data": {
      "text/plain": [
       "<matplotlib.legend.Legend at 0x7b35a353b4f0>"
      ]
     },
     "execution_count": 33,
     "metadata": {},
     "output_type": "execute_result"
    },
    {
     "data": {
      "image/png": "[encoded data removed]",
      "text/plain": [
       "<Figure size 640x480 with 2 Axes>"
      ]
     },
     "metadata": {},
     "output_type": "display_data"
    }
   ],
   "source": [
    "plt.subplot(1, 2, 1)\n",
    "for alpha, w_history in historique.items():\n",
    "    plt.plot([w[0] for w in w_history],label=f'alpha = {alpha}')\n",
    "plt.title('Evolution of theta_0')\n",
    "plt.xlabel('Iterations')\n",
    "plt.ylabel('theta_0')\n",
    "plt.legend()\n",
    "\n",
    "plt.subplot(1, 2, 2)\n",
    "for alpha, w_history in historique.items():\n",
    "    plt.plot([w[1] for w in w_history],label=f'alpha = {alpha}')\n",
    "plt.title('Evolution of theta_1')\n",
    "plt.xlabel('Iterations')\n",
    "plt.ylabel('theta_1')\n",
    "plt.legend()\n",
    "\n"
   ]
  },
  {
   "cell_type": "markdown",
   "metadata": {
    "id": "5zgsbk04We9F"
   },
   "source": [
    "**Question 7**\n",
    "\n",
    "Discuss on the role of alpha\n",
    "\n",
    "α est un hyperparamètre crucial qui contrôle la vitesse à laquelle le modèle ajuste ses paramètres. Son rôle est de déterminer le pas que l'algorithme effectue à chaque itération pour se rapprocher du minimum de la fonction de coût. On remarque que un α trop petit ralentit la convergence, tandis qu'un α trop grand peut empêcher la convergence."
   ]
  },
  {
   "cell_type": "markdown",
   "metadata": {
    "id": "iOo29xisWxRo"
   },
   "source": [
    "$R^2$ is the coefficient of determination useful to score a regression against the ground truth data.\n",
    "\n",
    "This coefficient can be computed with a sklearn function:\n",
    "\n",
    "```\n",
    "sklearn.metrics.r2_score(y_true, y_pred, *, sample_weight=None, multioutput='uniform_average')\n",
    "```\n",
    "\n",
    "With:\n",
    "\n",
    "**y_true** array-like of shape (n_samples,) or (n_samples, n_outputs)\n",
    "\n",
    "Ground truth (correct) target values.\n",
    "\n",
    "**y_pred** array-like of shape (n_samples,) or (n_samples, n_outputs)\n",
    "\n",
    "Estimated target values.\n",
    "\n",
    "**sample_weight** array-like of shape (n_samples,), default=None\n",
    "\n",
    "Sample weights.\n",
    "\n",
    "**multioutput** {‘raw_values’, ‘uniform_average’, ‘variance_weighted’}, array-like of shape (n_outputs,) or None, default=’uniform_average’\n",
    "\n",
    "Defines aggregating of multiple output scores. Array-like value defines weights used to average scores. Default is “uniform_average”.\n",
    "\n",
    "- ‘raw_values’: Returns a full set of scores in case of multioutput input.\n",
    "\n",
    "- ‘uniform_average’: Scores of all outputs are averaged with uniform weight.\n",
    "\n",
    "- ‘variance_weighted’: Scores of all outputs are averaged, weighted by the variances of each individual output.\n"
   ]
  },
  {
   "cell_type": "code",
   "execution_count": 34,
   "metadata": {
    "id": "NG9YymF4X5oN"
   },
   "outputs": [],
   "source": [
    "from sklearn.metrics import r2_score"
   ]
  },
  {
   "cell_type": "markdown",
   "metadata": {
    "id": "v6G_L1asX9Kp"
   },
   "source": [
    "**TO CODE 3.7**\n",
    "\n",
    "Compute $R^2$ on the regression with df_study"
   ]
  },
  {
   "cell_type": "code",
   "execution_count": 35,
   "metadata": {
    "id": "mJr-e5OlYSx7"
   },
   "outputs": [
    {
     "data": {
      "text/plain": [
       "0.846632270152281"
      ]
     },
     "execution_count": 35,
     "metadata": {},
     "output_type": "execute_result"
    }
   ],
   "source": [
    "y_true = np.array(df_study.Life_expectancy)\n",
    "y_pred = np.array( [a * x + b for x in df_study.Income_composition_of_resources])\n",
    "r2_score(y_true,y_pred)"
   ]
  },
  {
   "cell_type": "markdown",
   "metadata": {
    "id": "ypKuUxvNYbW7"
   },
   "source": [
    "**QUESTION 8**\n",
    "\n",
    "Is linear regression suited between the two selected variables?\n",
    "\n",
    "Puisque la valeur est proche de 1, on peut déduire que la régression lineaire qu'on a fait est bien appropriée mais si on avait plus de valeurs dans data, la valeur va etre plus proche de 1 et la regression va etre plus pertinente."
   ]
  },
  {
   "cell_type": "markdown",
   "metadata": {
    "id": "gZY_AZShYfsH"
   },
   "source": [
    "**QUESTION 9**\n",
    "\n",
    "If not, what would be the relevant regression between these two variables?\n",
    "\n",
    "Si la regression linéaire n'est pas appropriée, on peut utiliser utiliser la regression polynomiale ou logarithmique ou exponentielle."
   ]
  },
  {
   "cell_type": "markdown",
   "metadata": {},
   "source": [
    "## Checkpoint : 3\n",
    "Call your teacher to validate the rest of section 3"
   ]
  },
  {
   "cell_type": "markdown",
   "metadata": {
    "id": "kIgB-0U2Yj2n"
   },
   "source": [
    "## STEP 4: Diagnostic visualization"
   ]
  },
  {
   "cell_type": "markdown",
   "metadata": {},
   "source": [
    "**TO CODE 4.1**\n",
    "\n",
    "Compute the residuals and plot the residuals vs fitted values."
   ]
  },
  {
   "cell_type": "code",
   "execution_count": 36,
   "metadata": {},
   "outputs": [
    {
     "name": "stdout",
     "output_type": "stream",
     "text": [
      "residuals = [-1.11823196e-01 -4.11823196e-01 -1.26028518e-01  1.45560839e-01\n",
      "  1.34574842e+00 -1.39686754e+00 -9.39295925e-01 -6.81724306e-01\n",
      " -1.12415269e+00 -1.63817043e+00 -1.25218817e+00 -1.52340236e+00\n",
      " -1.79461655e+00 -1.12302719e+00 -6.51437833e-01  1.29324154e+00\n",
      "  1.12202735e+00  1.07941139e+00  8.65393650e-01  7.79974138e-01\n",
      "  5.51563494e-01  2.51751077e-01  2.37733339e-01  1.23715600e-01\n",
      "  9.69786167e-03 -1.61516329e-01  1.25662736e-03 -1.98555790e-01\n",
      " -8.41628851e-02 -1.69769981e-01 -5.12573528e-01 -7.41171754e-01\n",
      " -1.69818062e+00 -5.69394815e-01  3.57359632e+00  5.83098035e+00\n",
      " -3.97430292e-01 -5.42515781e-02  3.17306833e-02  2.03507623e-01\n",
      "  9.46686337e-01  1.19586771e+00  8.24465932e-01  4.81662384e-01\n",
      "  3.88588368e-02 -4.32542937e-01 -8.46748259e-01 -1.08936422e+00\n",
      " -1.26057841e+00 -1.61758728e+00  6.12540385e+00  1.32559143e+00\n",
      " -2.51702453e+00 -3.26001567e+00]\n"
     ]
    },
    {
     "data": {
      "image/png": "[encoded data removed]",
      "text/plain": [
       "<Figure size 640x480 with 1 Axes>"
      ]
     },
     "metadata": {},
     "output_type": "display_data"
    }
   ],
   "source": [
    "import numpy as np\n",
    "from sklearn.linear_model import LinearRegression\n",
    "from sklearn.model_selection import train_test_split\n",
    "\n",
    "\n",
    "x = df_study[\"Income_composition_of_resources\"].values\n",
    "y = df_study[\"Life_expectancy\"].values\n",
    "\n",
    "\n",
    "\n",
    "\n",
    "\n",
    "\n",
    "y_preed= a * x + b\n",
    "residuals = y - y_preed\n",
    "print(\"residuals = \" + str(residuals))\n",
    "plt.scatter(y_pred, residuals)\n",
    "plt.xlabel('Valeur prédite')\n",
    "plt.ylabel('Résiduel')\n",
    "plt.axhline(y=0, color='r', linestyle='--')\n",
    "plt.title('Résiduel vs Valeur prédite')\n",
    "plt.show()\n"
   ]
  },
  {
   "cell_type": "markdown",
   "metadata": {},
   "source": [
    "**Question 10**\n",
    "\n",
    "What can you conclude about this plot ?\n",
    "\n",
    " les résidus sont répartis de manière non aléatoire autour de 0 (avec des résidus à la fois positifs et négatifs ), cela montre que la relation n'est pas vraiment lineaire et plus complexe. Cela signifie que le modèle ne présente pas de biais systématique et qu'il est équilibré en termes de sous-estimation et surestimation des valeurs."
   ]
  },
  {
   "cell_type": "markdown",
   "metadata": {},
   "source": [
    "**TO CODE 4.2**\n",
    "\n",
    "Also compute the Scale Location plot\n"
   ]
  },
  {
   "cell_type": "code",
   "execution_count": 37,
   "metadata": {},
   "outputs": [
    {
     "data": {
      "image/png": "[encoded data removed]",
      "text/plain": [
       "<Figure size 640x480 with 1 Axes>"
      ]
     },
     "metadata": {},
     "output_type": "display_data"
    }
   ],
   "source": [
    "plt.scatter(y_pred, np.sqrt(np.abs(residuals)))\n",
    "plt.xlabel('Valeur prédite')\n",
    "plt.ylabel('Racine carrée des résiduels')\n",
    "plt.show()\n"
   ]
  },
  {
   "cell_type": "markdown",
   "metadata": {},
   "source": [
    "**Question 11**\n",
    "\n",
    "What can you conclude about this plot ?\n",
    " \n",
    " le modèle montre une variance des résidus relativement constante, ce qui est un bon signe pour sa validité. Cependant, une légère augmentation des résidus pour les valeurs prédites élevées (autour de 72) pourrait indiquer des axes d'amélioration pour mieux capturer la relation entre les variables."
   ]
  },
  {
   "cell_type": "markdown",
   "metadata": {},
   "source": [
    "**TO CODE 4.3**\n",
    "\n",
    "Compute now the Cook's distance for our data. You can compute it by yourself or use any library you can find.\n"
   ]
  },
  {
   "cell_type": "code",
   "execution_count": null,
   "metadata": {},
   "outputs": [],
   "source": [
    "\n"
   ]
  },
  {
   "cell_type": "markdown",
   "metadata": {},
   "source": [
    "**Question 12**\n",
    "\n",
    "What can you conclude about this plot ?\n"
   ]
  },
  {
   "cell_type": "markdown",
   "metadata": {},
   "source": [
    "**TO DO 4.1** \n",
    "\n",
    "We are now adding multiple variable in our regression problem. Run the following cell in order to add multiple variables to your model : "
   ]
  },
  {
   "cell_type": "code",
   "execution_count": 39,
   "metadata": {},
   "outputs": [],
   "source": [
    "from sklearn.preprocessing import scale\n",
    "from sklearn.model_selection import train_test_split\n",
    "from sklearn.linear_model import Ridge, Lasso\n",
    "from sklearn.metrics import mean_squared_error\n",
    "\n",
    "df_study = df[(df.Country == \"Belarus\") | (df.Country == \"Madagascar\") | (df.Country == \"India\") | (df.Country == \"Lithuania\")]\n",
    "y = df_study.Life_expectancy\n",
    "X = df_study[['Adult_mortality', 'Alcohol', 'Total_expenditure', 'Income_composition_of_resources', 'Schooling', \"HIV_AIDS\"]].to_numpy(dtype='float64')"
   ]
  },
  {
   "cell_type": "markdown",
   "metadata": {},
   "source": [
    "**TO CODE 4.4**\n",
    "\n",
    "Dealing with too many variables can sometimes be counter-productive and it can be more interesting to remove some features. One way to evaluate the importance of each variable is to compute the f_test whose function is named f_regression in sklearn. "
   ]
  },
  {
   "cell_type": "code",
   "execution_count": null,
   "metadata": {},
   "outputs": [],
   "source": []
  },
  {
   "cell_type": "markdown",
   "metadata": {},
   "source": [
    "**QUESTION 13**\n",
    "\n",
    "According to the f_test, rank each variable from the least to the most promising. Compare it with the correlation of your subset."
   ]
  },
  {
   "cell_type": "code",
   "execution_count": null,
   "metadata": {},
   "outputs": [],
   "source": []
  },
  {
   "cell_type": "markdown",
   "metadata": {},
   "source": [
    "## Checkpoint : 4\n",
    "Call your teacher to validate the section 4. Congrats, you finished the first TP !"
   ]
  },
  {
   "cell_type": "code",
   "execution_count": null,
   "metadata": {},
   "outputs": [],
   "source": []
  }
 ],
 "metadata": {
  "colab": {
   "name": "TP1_LinearRegression.ipynb",
   "provenance": []
  },
  "kernelspec": {
   "display_name": "2A_ML_Kernel",
   "language": "python",
   "name": "2a_ml_kernel"
  },
  "language_info": {
   "codemirror_mode": {
    "name": "ipython",
    "version": 3
   },
   "file_extension": ".py",
   "mimetype": "text/x-python",
   "name": "python",
   "nbconvert_exporter": "python",
   "pygments_lexer": "ipython3",
   "version": "3.10.12"
  }
 },
 "nbformat": 4,
 "nbformat_minor": 4
}
